{
  "nbformat": 4,
  "nbformat_minor": 0,
  "metadata": {
    "colab": {
      "name": "FundamentosProgramacion.ipynb",
      "provenance": [],
      "authorship_tag": "ABX9TyPDFgTjunOHcQPuJ9kdIEHa",
      "include_colab_link": true
    },
    "kernelspec": {
      "name": "python3",
      "display_name": "Python 3"
    }
  },
  "cells": [
    {
      "cell_type": "markdown",
      "metadata": {
        "id": "view-in-github",
        "colab_type": "text"
      },
      "source": [
        "<a href=\"https://colab.research.google.com/github/Jack21Ace/Fundamentos-de-Programacion/blob/master/FundamentosProgramacion.ipynb\" target=\"_parent\"><img src=\"https://colab.research.google.com/assets/colab-badge.svg\" alt=\"Open In Colab\"/></a>"
      ]
    },
    {
      "cell_type": "code",
      "metadata": {
        "colab": {
          "base_uri": "https://localhost:8080/"
        },
        "id": "9BPGzZwteqCJ",
        "outputId": "3abfaa71-f784-4b74-dfb3-0f44af3d55a8"
      },
      "source": [
        "\"\"\"\" Programa que lee N numero enteros y calcula si promedio.\n",
        "    Salida con número menor a 0 \"\"\"\n",
        "suma = 0    \n",
        "media = 0.0\n",
        "cantidad = 0\n",
        "num = int(input(\"Ingrese un numero: \")) # Lectura del primer numero\n",
        "while (num > 0): # Inicio de ciclo\n",
        "  suma = suma + num\n",
        "  num = int(input(\"Ingrese un numero: \")) # Lectura de los otros números\n",
        "  cantidad = cantidad + 1 \n",
        "# Termina el ciclo\n",
        "if cantidad != 0:\n",
        "  media = suma/cantidad # Calcular la media\n",
        "  print(f\"El promedio de los numeros ingresado es: {media}\") # Imprimir datos por consola\n",
        "else:\n",
        "  print(\"No hay número para calcular la media\")  \n",
        "\n"
      ],
      "execution_count": null,
      "outputs": [
        {
          "output_type": "stream",
          "text": [
            "Ingrese un numero: -9\n",
            "No hay número para calcular la media\n"
          ],
          "name": "stdout"
        }
      ]
    },
    {
      "cell_type": "code",
      "metadata": {
        "id": "5HTOKXPbm0pm"
      },
      "source": [
        "cantAlumn = int(input(\"Alumnos a Calificar \"))\n",
        "contador = 0\n",
        "while contador < cantAlumn:\n",
        "    nomAlumno = input(\"Ingrese nombre de estudiante \")\n",
        "    if (nomAlumno != \"***\"):\n",
        "      basic = float(input(\"Ingrese la nota para Basic \"))\n",
        "      pascal = float(input(\"Ingrese nota para Pascal \"))\n",
        "      fortran = float(input(\"Ingrese nota para Pascal \"))\n",
        "      media = (basic + pascal + fortran) / 3\n",
        "      print(\"\")\n",
        "      print(f\"La nota media para {nomAlumno} es {media:.1f}\" )\n",
        "      print(\"############################\")\n",
        "      print(\"\")\n",
        "      contador += 1\n",
        "    else: \n",
        "      break"
      ],
      "execution_count": null,
      "outputs": []
    },
    {
      "cell_type": "code",
      "metadata": {
        "colab": {
          "base_uri": "https://localhost:8080/"
        },
        "id": "QNY2LxR_nJDr",
        "outputId": "3b696f1f-fa72-4dc3-ba8c-d0fdd6dce3b1"
      },
      "source": [
        "\"\"\" \n",
        " Programa que lea el nombre\n",
        " y la nota definitiva de 3 materias \n",
        " (pascarl, basic y fortran) de N estudiantes \n",
        " Condicion de salida de nombre = *** \n",
        "\"\"\"\n",
        "# Declaración de variables\n",
        "var_nombre = \"***\"\n",
        "var_bas = 0.0\n",
        "var_for = 0.0\n",
        "var_pas = 0.0\n",
        "var_contador = 0\n",
        "var_media = 0.0\n",
        "# Leer nombre\n",
        "var_nombre = input(\"Digite el nombre del estudiante: \")\n",
        "# Ciclo While\n",
        "while var_nombre != \"***\":\n",
        "  # Inicio de Ciclos\n",
        "  var_bas = float(input(\"Definitiva Basic \"))\n",
        "  var_for = float(input(\"Definitiva fortran \"))\n",
        "  var_pas = float(input(\"Definitiva Pascal \"))\n",
        "  # Proceso que calcula la nota media del estudiante\n",
        "  var_media = (var_bas + var_for + var_pas) / 3\n",
        "  print(f\"La nota media de {var_nombre} es {var_media}\")\n",
        "  var_nombre = input(\"Digite el nombre del estudiante: \")\n",
        "  var_contador += 1\n",
        "# Fin  \n",
        "print(f\"Cantidad de estudiantes {var_contador}\")\n",
        "print(\"Adios....\")\n",
        "  \n"
      ],
      "execution_count": null,
      "outputs": [
        {
          "output_type": "stream",
          "text": [
            "Digite el nombre del estudiante: Donald\n",
            "Definitiva Basic 4.5\n",
            "Definitiva fortran 3.4\n",
            "Definitiva Pascal 4\n",
            "La nota media de Donald es 3.966666666666667\n",
            "Digite el nombre del estudiante: Jose\n",
            "Definitiva Basic 4.6\n",
            "Definitiva fortran 3.5\n",
            "Definitiva Pascal 5\n",
            "La nota media de Jose es 4.366666666666666\n",
            "Digite el nombre del estudiante: ***\n"
          ],
          "name": "stdout"
        }
      ]
    },
    {
      "cell_type": "code",
      "metadata": {
        "id": "8mKVhojgvEKw",
        "colab": {
          "base_uri": "https://localhost:8080/"
        },
        "outputId": "1c5b348b-2214-4aa9-d893-36faca6faffb"
      },
      "source": [
        "##############################################################\n",
        "# Importar librerias a usar\n",
        "import random\n",
        "\n",
        "# Area definición de variables\n",
        "cantNum = 0\n",
        "contador = 0 \n",
        "num = 0\n",
        "acumuladorS = 0\n",
        "promNumAleatorios = 0.0\n",
        "# Variables segunda parte del ejercicio\n",
        "acumuladorPos = 0\n",
        "contadorPos = 0\n",
        "acumuladorNeg = 0\n",
        "contadorNeg = 0\n",
        "promNegativo = 0.0\n",
        "promSuma = 0.0\n",
        "# Tercera parte del ejercicio\n",
        "mayorPos = 0\n",
        "mayorNeg = 0\n",
        "menorPos = 0\n",
        "menorNeg = 0\n",
        "# Entrada\n",
        "cantNum = int(input(\"Ingresed la cantidad de numeros \"))\n",
        "\n",
        "#  Proceso \n",
        "#  Ciclo While\n",
        "\n",
        "while (contador < cantNum):\n",
        "    num=random.randint(11,10000)\n",
        "    acumuladorS = acumuladorS + num\n",
        "    # Segunda parte del ejercicio\n",
        "    if num > 0: # Calculo para los num Positivos\n",
        "      print(f\"Numeros Positivos: {num}\")\n",
        "      acumuladorPos = acumuladorPos + num\n",
        "      contadorPos +=1\n",
        "      # Identifcar ek mayor positivo\n",
        "      if (num > mayorPos):\n",
        "          num = mayorPos\n",
        "    else: # Contador para numero negativos\n",
        "      print(f\"Numeros Negativos: {num}\")\n",
        "      acumuladorNeg = acumuladosPos + num\n",
        "      contadorNeg +=1\n",
        "  ##  Fin de la segunda parte\n",
        "\n",
        "\n",
        "  contador +=1\n",
        "# Fin Ciclo\n",
        "promNumAleatorios = acumuladorS/contador\n",
        "\n",
        "# Salida\n",
        "print(f\"La suma de numeros es: {acumuladorS}\")\n",
        "print(f\"El promedio de la suma es: {promNumAleatorios}\")\n"
      ],
      "execution_count": null,
      "outputs": [
        {
          "output_type": "stream",
          "text": [
            "Ingresed la cantidad de numeros 2\n",
            "La suma de numeros es: 7129\n",
            "El promedio de la suma es: 3564.5\n"
          ],
          "name": "stdout"
        }
      ]
    },
    {
      "cell_type": "code",
      "metadata": {
        "id": "ijaBOwyFaNNB",
        "colab": {
          "base_uri": "https://localhost:8080/"
        },
        "outputId": "0eb0b72e-30c6-41ab-c998-47620e605284"
      },
      "source": [
        "##############################\n",
        "##         FUNCIONES        ##\n",
        "##############################\n",
        "\n",
        "\"\"\" Problema 1:\n",
        "    Confeccionar una aplicación que muestre una presentación \n",
        "    en pantalla del programa. Solicite la carga de dos valores \n",
        "    y nos muestre la suma. Mostrar finalmente un mensaje de \n",
        "    despedida del programa.   \n",
        "\"\"\"\n",
        "\n",
        "#  Definicion de funcion\n",
        "def mostrar_mensaje(sms):\n",
        "  print(\"#################################################################\")\n",
        "  print(sms)\n",
        "  print(\"#################################################################\")\n",
        "\n",
        "def carga_suma():\n",
        "  num1=int(input(\"Ingrese el primer numero para la suma: \"))\n",
        "  num2=int(input(\"Ingrese el primer numero para la suma: \"))\n",
        "  suma=num1+num2\n",
        "  print(f\"La suma de los numeros es: {suma}\")\n",
        "\n",
        "#   Programa principal  \n",
        "\n",
        "mostrar_mensaje(\"El programa calcula la suma de dos valores ingresados por teclado\")\n",
        "carga_suma()\n",
        "mostrar_mensaje(\"##             gracias por utilizar este programa              ##\")"
      ],
      "execution_count": null,
      "outputs": [
        {
          "output_type": "stream",
          "text": [
            "#################################################################\n",
            "El programa calcula la suma de dos valores ingresados por teclado\n",
            "#################################################################\n",
            "Ingrese el primer numero para la suma: 5\n",
            "Ingrese el primer numero para la suma: 7\n",
            "La suma de los numeros es: 12\n",
            "#################################################################\n",
            "##             gracias por utilizar este programa              ##\n",
            "#################################################################\n"
          ],
          "name": "stdout"
        }
      ]
    },
    {
      "cell_type": "code",
      "metadata": {
        "colab": {
          "base_uri": "https://localhost:8080/"
        },
        "id": "m7fAk5-m0L2W",
        "outputId": "f53fc924-5290-4862-aa8b-05be3eeac3a4"
      },
      "source": [
        "\"\"\" Problema 2:\n",
        "    Confeccionar una función que reciba tres enteros y \n",
        "    nos muestre el mayor de ellos. La carga de los valores \n",
        "    hacerlo por teclado.\n",
        "\"\"\"\n",
        "\n",
        "def mostrar_mayor(num1,num2,num3):\n",
        "  print(\"El valor mayor de los tres numeros es: \")\n",
        "  if num1>num2 and num1>num3:\n",
        "    print(num1)\n",
        "  else:\n",
        "    if num2>num3:\n",
        "      print(num2)\n",
        "    else:\n",
        "      print(num3)\n",
        "\n",
        "def cargar():\n",
        "  valor1 = int(input(\"Ingrese el primer valor: \"))\n",
        "  valor2 = int(input(\"Ingrese el segundo valor: \"))\n",
        "  valor3 = int(input(\"Ingrese el tercer valor: \"))\n",
        "  mostrar_mayor(valor1,valor2,valor3)\n",
        "\n",
        "#   Programa principal\n",
        "\n",
        "cargar()"
      ],
      "execution_count": null,
      "outputs": [
        {
          "output_type": "stream",
          "text": [
            "Ingrese el primer valor: 8\n",
            "Ingrese el segundo valor: 5\n",
            "Ingrese el tercer valor: 44\n",
            "El valor mayor de los tres numeroses: \n",
            "44\n"
          ],
          "name": "stdout"
        }
      ]
    },
    {
      "cell_type": "code",
      "metadata": {
        "colab": {
          "base_uri": "https://localhost:8080/"
        },
        "id": "XLt2ItuY3zet",
        "outputId": "e0bb9cdc-7149-4e2c-cd49-757825b6a14f"
      },
      "source": [
        "\"\"\" Problema 3:\n",
        "    Desarrollar un programa que permita ingresar el \n",
        "    lado de un cuadrado. Luego preguntar si quiere \n",
        "    calcular y mostrar su perímetro o su superficie.\n",
        "\"\"\"\n",
        "\n",
        "def mostrar_perimetro(lado):\n",
        "  per=lado*4\n",
        "  print(f\"El perimetro es: {per}\")\n",
        "\n",
        "def mostrar_superficie(lado):\n",
        "  sup=lado*lado\n",
        "  print(f\"La superficie es: {sup}\")\n",
        "\n",
        "def cargar_dato():\n",
        "  lad=int(input(\"ingrese el valor del lado de un cuadrado \"))\n",
        "  rspt = input(\"Quiere calcular el perimetro o la superficie[ingresar texto: perimetro/superficie]? \")\n",
        "  if rspt == \"perimetro\":\n",
        "    mostrar_perimetro(lad)\n",
        "  if rspt == \"superficie\":\n",
        "    mostrar_superficie(lad)\n",
        "\n",
        "# Programa principal    \n",
        "\n",
        "cargar_dato()\n",
        "  "
      ],
      "execution_count": null,
      "outputs": [
        {
          "output_type": "stream",
          "text": [
            "ingrese el valor del lado de un cuadrado4\n",
            "Quiere calcular el perimetro o la superficie[ingresar texto: perimetro/superficie]?perimetro\n",
            "El perimetro es: 16\n"
          ],
          "name": "stdout"
        }
      ]
    },
    {
      "cell_type": "code",
      "metadata": {
        "colab": {
          "base_uri": "https://localhost:8080/"
        },
        "id": "YAIKdTB088_F",
        "outputId": "7d23d4e7-1b63-42ef-b597-30e838d22542"
      },
      "source": [
        "\"\"\" Desarrollar una funcion que reciba un string \n",
        "    como parametro y nos muestre la cantidad de vocales. \n",
        "    Llamarla desde el bloque principal del programa \n",
        "    3 veces con string distintos.\n",
        "\"\"\"\n",
        "\n",
        "def cant_vocales(v):\n",
        "  cant=0\n",
        "  for x in range(len(v)):\n",
        "    if v[x] == \"a\" or v[x] == \"e\" or v[x] == \"i\" or v[x] == \"o\" or v[x] == \"u\":\n",
        "      cant+=1\n",
        "  print(f\"Cantidad de vocales de la palabra {v} es {cant}\")\n",
        "\n",
        "#   programa principal\n",
        "\n",
        "cant_vocales(\"hola\")\n",
        "cant_vocales(\"administración\")\n",
        "cant_vocales(\"correr\")\n"
      ],
      "execution_count": null,
      "outputs": [
        {
          "output_type": "stream",
          "text": [
            "Cantidad de vocales de la palabra hola es 2\n",
            "Cantidad de vocales de la palabra administración es 5\n",
            "Cantidad de vocales de la palabra correr es 2\n"
          ],
          "name": "stdout"
        }
      ]
    },
    {
      "cell_type": "code",
      "metadata": {
        "colab": {
          "base_uri": "https://localhost:8080/"
        },
        "id": "dMBcJvq_BZSO",
        "outputId": "d86c2be2-6c47-4ffc-87ab-2ec85b890163"
      },
      "source": [
        "\"\"\" Confeccionar una función que reciba tres enteros \n",
        "    y los muestre ordenados de menor a mayor. En otra \n",
        "    función solicitar la carga de 3 enteros por teclado \n",
        "    y proceder a llamar a la primer función definida.\n",
        "\"\"\"\n",
        "\n",
        "def ordenar_imprimir(v1, v2, v3):\n",
        "  if v1<v2 and v1<v3:\n",
        "    if (v2<v3):\n",
        "      print(v1,v2,v3)\n",
        "    else:\n",
        "      print(v1,v3,v2)\n",
        "  else:\n",
        "    if (v2<v3):\n",
        "      if (v1<v3):\n",
        "        print(v2,v1,v3)\n",
        "      else:\n",
        "        print(v2,v3,v1)\n",
        "    else:\n",
        "      if (v1<v2):\n",
        "        print(v3,v1,v2)\n",
        "      else:\n",
        "        print(v3,v2,v1)\n",
        "\n",
        "def cargar():\n",
        "  num1=int(input(\"Ingresar primer valor\"))\n",
        "  num2=int(input(\"Ingresar segundo valor\"))\n",
        "  num3=int(input(\"Ingresar tercer valor\"))\n",
        "  ordenar_imprimir(num1,num2,num3)\n",
        "\n",
        "# Bloque principal\n",
        "cargar()  \n"
      ],
      "execution_count": null,
      "outputs": [
        {
          "output_type": "stream",
          "text": [
            "Ingresar primer valor5\n",
            "Ingresar segundo valor10\n",
            "Ingresar tercer valor2\n",
            "2 5 10\n"
          ],
          "name": "stdout"
        }
      ]
    },
    {
      "cell_type": "code",
      "metadata": {
        "id": "PwOqm41iFlOW"
      },
      "source": [
        "#   Factura de venta\n",
        "\n",
        "def f_valorFactura(): # Encabezado de la función \n",
        "  #   definición de variables\n",
        "  nomArticulo = \"\"\n",
        "  cantArticulo = 0\n",
        "  valUnit = 0.0\n",
        "\n",
        "  #   Def Variable constante\n",
        "  iva = 0.19\n",
        "\n",
        "  #   Def Variables de proceso y salida\n",
        "  netoPagar = 0.0\n",
        "  ivaPagar = 0.0\n",
        "  totalPagar = 0.0\n",
        "\n",
        "  # Entrada de datos\n",
        "  nomArticulo = input(\"Articulo: \")\n",
        "  cantArticulo = int(input(\"Cantidad: \"))\n",
        "  valUnit = float(input(\"Valor unitario: \"))\n",
        "\n",
        "  # Procesos\n",
        "  netoPagar = valUnit*cantArticulo\n",
        "  ivaPagar = netoPagar*iva\n",
        "  totalPagar = netoPagar+ivaPagar\n",
        "\n",
        "  # Imprimir\n",
        "  print(f\"Neto: {netoPagar}\")\n",
        "  print(f\"Iva: {netoPagar}\")\n",
        "  print(f\"Total: {netoPagar}\")\n",
        "\n",
        "  #   Llamado de la función\n",
        "f_valorFactura()\n",
        "\n"
      ],
      "execution_count": null,
      "outputs": []
    },
    {
      "cell_type": "code",
      "metadata": {
        "id": "piwEWRuviEUF"
      },
      "source": [
        ""
      ],
      "execution_count": null,
      "outputs": []
    },
    {
      "cell_type": "code",
      "metadata": {
        "colab": {
          "base_uri": "https://localhost:8080/"
        },
        "id": "FZKaqCMDuDVW",
        "outputId": "75ee7c75-6e31-4c10-825c-df62cdf06ac7"
      },
      "source": [
        "# Declaracion de cadena\n",
        "text1 = \"Hola \"\n",
        "text2 = \"Mun do soy Donal y coman mierda gonorreos\"\n",
        "# Concatenacion\n",
        "text3 = text1 + text2\n",
        "print(text3)"
      ],
      "execution_count": null,
      "outputs": [
        {
          "output_type": "stream",
          "text": [
            "Hola Mundo\n"
          ],
          "name": "stdout"
        }
      ]
    },
    {
      "cell_type": "code",
      "metadata": {
        "id": "MhTFFVMCuigd"
      },
      "source": [
        "def presentacion():\n",
        "    print(\"Programa que permite cargar dos valores por teclado.\")\n",
        "    print(\"Efectua la suma de los valores\")\n",
        "    print(\"Muestra el resultado de la suma\")\n",
        "    print(\"*******************************\")\n",
        "\n",
        "def carga_suma():\n",
        "    valor1=float(input(\"Ingrese el primer valor:\"))\n",
        "    valor2=int(input(\"Ingrese el segundo valor:\"))\n",
        "    m=2\n",
        "    suma=valor1+valor2\n",
        "    resta=valor1-valor2\n",
        "    mult=valor1*valor2 \n",
        "    divi= valor1/valor2 \n",
        "\n",
        "    print(f\"La suma de los dos valores es: {suma} \\n\" \n",
        "          f\"La resta es: {resta} \\n\" \n",
        "          f\"La multiplicacion: {mult} \\n\" \n",
        "          f\"La division: {divi}\")\n",
        "    \n",
        "\n",
        "def finalizacion():\n",
        "    print(\"*******************************\")    \n",
        "    print(\"Gracias por utilizar este programa\")\n",
        "\n",
        "presentacion()\n",
        "carga_suma()\n",
        "finalizacion()"
      ],
      "execution_count": null,
      "outputs": []
    },
    {
      "cell_type": "code",
      "metadata": {
        "colab": {
          "base_uri": "https://localhost:8080/"
        },
        "id": "HAjis_VQvlwj",
        "outputId": "0e99b0f8-09eb-401c-abfa-749202ffcf4b"
      },
      "source": [
        "import numpy as np\n",
        "vector = np.array([\"donald\",\"Pipe\",\"Rodri\"])\n",
        "matriz = np.array([[1, 2, 3], [4, 5, 6], [7, 8, 9]])\n",
        "print(\"El vector es: \", vector)\n",
        "matriz"
      ],
      "execution_count": null,
      "outputs": [
        {
          "output_type": "stream",
          "text": [
            "El vector es:  ['donald' 'Pipe' 'Rodri']\n"
          ],
          "name": "stdout"
        },
        {
          "output_type": "execute_result",
          "data": {
            "text/plain": [
              "array([[1, 2, 3],\n",
              "       [4, 5, 6],\n",
              "       [7, 8, 9]])"
            ]
          },
          "metadata": {
            "tags": []
          },
          "execution_count": 52
        }
      ]
    },
    {
      "cell_type": "code",
      "metadata": {
        "id": "hQ9ywoZf8sz8",
        "colab": {
          "base_uri": "https://localhost:8080/"
        },
        "outputId": "bdce553e-b70b-44b5-e2c1-191974efe699"
      },
      "source": [
        "def retornar_mayor(v1,v2):\n",
        "  if v1>v2:\n",
        "    mayor = v1\n",
        "  else:\n",
        "    mayor=v2\n",
        "  return mayor\n",
        "\n",
        "# Bloque principal\n",
        "valor1 = int(input(\"Ingrese el primer valor\"))\n",
        "valor2 = int(input(\"Ingrese el segundo valor\"))\n",
        "print(retornar_mayor(valor1, valor2))\n"
      ],
      "execution_count": null,
      "outputs": [
        {
          "output_type": "stream",
          "text": [
            "Ingrese el primer valor5\n",
            "Ingrese el segundo valor6\n",
            "6\n"
          ],
          "name": "stdout"
        }
      ]
    },
    {
      "cell_type": "code",
      "metadata": {
        "colab": {
          "base_uri": "https://localhost:8080/"
        },
        "id": "Rt84tZ_ZVRyz",
        "outputId": "2d56a8dd-7ab9-41a4-d75d-c15a09f3e861"
      },
      "source": [
        "###########################################\n",
        "#   Funciones, Parametros de tipo Lista   #\n",
        "###########################################\n",
        "\n",
        "\"\"\" Problema 1:\n",
        "    Definir por asignación una lista de enteros \n",
        "    en el bloque principal del programa. \n",
        "    Elaborar tres funciones, la primera recibe la \n",
        "    lista y retorna la suma de todos sus elementos, \n",
        "    la segunda recibe la lista y retorna el mayor \n",
        "    valor y la última recibe la lista y retorna el menor.\n",
        "\"\"\"\n",
        "def sumarizar(lista):\n",
        "    suma=0\n",
        "    for x in range(len(lista)):\n",
        "        suma=suma+lista[x]\n",
        "    return suma\n",
        "\n",
        "def mayor(lista):\n",
        "    may=lista[0]\n",
        "    for x in range(1,len(lista)):\n",
        "        if lista[x]>may:\n",
        "            may=lista[x]\n",
        "    return may\n",
        "\n",
        "def menor(lista):\n",
        "    men=lista[0]\n",
        "    for x in range(1,len(lista)):\n",
        "        if lista[x]<men:\n",
        "            men=lista[x]\n",
        "    return men\n",
        "\n",
        "# bloque principal del programa\n",
        "listavalores=[10, 56, 23, 120, 94]\n",
        "print(f\"La lista completa es {listavalores}\")\n",
        "print(f\"La suma de todos su elementos es: {sumarizar(listavalores)}\")\n",
        "print(f\"El mayor valor de la lista es: {mayor(listavalores)}\")\n",
        "print(f\"El menor valor de la lista es: {menor(listavalores)}\")"
      ],
      "execution_count": null,
      "outputs": [
        {
          "output_type": "stream",
          "text": [
            "La lista completa es [10, 56, 23, 120, 94]\n",
            "La suma de todos su elementos es: 303\n",
            "El mayor valor de la lista es: 120\n",
            "El menor valor de la lista es: 10\n"
          ],
          "name": "stdout"
        }
      ]
    },
    {
      "cell_type": "code",
      "metadata": {
        "colab": {
          "base_uri": "https://localhost:8080/"
        },
        "id": "gEvZsJIwa3Ws",
        "outputId": "dc2a4d53-43c8-48f6-cf07-2a70211214ba"
      },
      "source": [
        "\"\"\"Problema 1:\n",
        "   Confeccionar una función que reciba un string \n",
        "   como parámetro y en forma opcional un segundo \n",
        "   string con un caracter. La función debe mostrar \n",
        "   el string subrayado con el caracter que indica \n",
        "   el segundo parámetro\n",
        "\"\"\"\n",
        "def titulo_subrayado(titulo,caracter=\"*\"):\n",
        "    print(titulo)\n",
        "    print(caracter*len(titulo))\n",
        "\n",
        "\n",
        "# bloque principal\n",
        "\n",
        "titulo_subrayado(\"Sistema de Administracion\")\n",
        "titulo_subrayado(\"Ventas\",\"-\")"
      ],
      "execution_count": null,
      "outputs": [
        {
          "output_type": "stream",
          "text": [
            "Sistema de Administracion\n",
            "*************************\n",
            "Ventas\n",
            "------\n"
          ],
          "name": "stdout"
        }
      ]
    },
    {
      "cell_type": "code",
      "metadata": {
        "id": "Yu2ufjS8buyA",
        "colab": {
          "base_uri": "https://localhost:8080/"
        },
        "outputId": "08053b56-0cb1-4e78-efa7-62bdb16462da"
      },
      "source": [
        "\"\"\" Problema 2:\n",
        "    Cargar una lista de 10 enteros, luego mostrarlos por \n",
        "    pantalla a cada elemento separados por una coma.\n",
        "\"\"\"\n",
        "def cargar():\n",
        "    lista=[]\n",
        "    for x in range(10):\n",
        "        valor=int(input(\"Ingrese valor:\"))\n",
        "        lista.append(valor)\n",
        "    return lista\n",
        "\n",
        "\n",
        "def imprimir(lista):\n",
        "    for x in range(len(lista)):\n",
        "        print(lista[x], end=\",\")\n",
        "\n",
        "\n",
        "# bloque principal\n",
        "\n",
        "lista=cargar()\n",
        "imprimir(lista)"
      ],
      "execution_count": null,
      "outputs": [
        {
          "output_type": "stream",
          "text": [
            "Ingrese valor:6\n",
            "Ingrese valor:3\n",
            "Ingrese valor:2\n",
            "Ingrese valor:7\n",
            "Ingrese valor:9\n",
            "Ingrese valor:1\n",
            "Ingrese valor:8\n",
            "Ingrese valor:5\n",
            "Ingrese valor:10\n",
            "Ingrese valor:11\n",
            "6,3,2,7,9,1,8,5,10,11,"
          ],
          "name": "stdout"
        }
      ]
    },
    {
      "cell_type": "code",
      "metadata": {
        "colab": {
          "base_uri": "https://localhost:8080/"
        },
        "id": "e0FceQONg5n6",
        "outputId": "a4bb8dc9-7b45-4217-8939-6bda7e2f4e52"
      },
      "source": [
        "def calcular_sueldo(nombre,costohora,cantidadhoras):\n",
        "    sueldo=costohora*cantidadhoras\n",
        "    print(nombre,\"trabajo\",cantidadhoras,\"y cobra un sueldo de\",sueldo)\n",
        "\n",
        "\n",
        "# bloque principal\n",
        "\n",
        "calcular_sueldo(\"juan\",10,120)\n",
        "calcular_sueldo(costohora=12,cantidadhoras=40,nombre=\"ana\")\n",
        "calcular_sueldo(cantidadhoras=90,nombre=\"luis\",costohora=7)"
      ],
      "execution_count": null,
      "outputs": [
        {
          "output_type": "stream",
          "text": [
            "juan trabajo 120 y cobra un sueldo de 1200\n",
            "ana trabajo 40 y cobra un sueldo de 480\n",
            "luis trabajo 90 y cobra un sueldo de 630\n"
          ],
          "name": "stdout"
        }
      ]
    },
    {
      "cell_type": "code",
      "metadata": {
        "colab": {
          "base_uri": "https://localhost:8080/"
        },
        "id": "rzMLuV4phbgc",
        "outputId": "31958472-d800-41c8-b4b9-3db0701d8a98"
      },
      "source": [
        "\"\"\" Problema 1:\n",
        "    Confeccionar una función que reciba entre 2 y \n",
        "    n (siendo n = 2,3,4,5,6 etc.) valores enteros, \n",
        "    retornar la suma de dichos parámetros.\n",
        "\"\"\"\n",
        "\n",
        "def sumar(v1,v2,*lista):\n",
        "    suma=v1+v2\n",
        "    for x in range(len(lista)):\n",
        "        suma=suma+lista[x]\n",
        "    return suma\n",
        "\n",
        "# bloque principal\n",
        "\n",
        "print(\"La suma de 1+2\")\n",
        "print(sumar(1,2))\n",
        "print(\"La suma de 1+2+3+4\")\n",
        "print(sumar(1,2,3,4))\n",
        "print(\"La suma de 1+2+3+4+5+6+7+8+9+10\")\n",
        "print(sumar(1,2,3,4,5,6,7,8,9,10))"
      ],
      "execution_count": null,
      "outputs": [
        {
          "output_type": "stream",
          "text": [
            "La suma de 1+2\n",
            "3\n",
            "La suma de 1+2+3+4\n",
            "10\n",
            "La suma de 1+2+3+4+5+6+7+8+9+10\n",
            "55\n"
          ],
          "name": "stdout"
        }
      ]
    },
    {
      "cell_type": "code",
      "metadata": {
        "colab": {
          "base_uri": "https://localhost:8080/"
        },
        "id": "ofoD96Tii5Zd",
        "outputId": "c1ba1b38-bf99-47e4-ff04-9dd4af929e26"
      },
      "source": [
        "def sumar(v1, v2, v3):\n",
        "    return v1 + v2 + v3\n",
        "\n",
        "li=[2, 4, 5]\n",
        "su=sumar(*li)\n",
        "print(su)"
      ],
      "execution_count": null,
      "outputs": [
        {
          "output_type": "stream",
          "text": [
            "11\n"
          ],
          "name": "stdout"
        }
      ]
    },
    {
      "cell_type": "code",
      "metadata": {
        "colab": {
          "base_uri": "https://localhost:8080/"
        },
        "id": "j_H1Zi7-jHMu",
        "outputId": "3e271080-d509-4379-e402-d7f213c5a5fe"
      },
      "source": [
        "s = \"C:/python36/python.exe\"\n",
        "s.find(\"/\")  # Retorna la primera ocurrencia.\n",
        "s.rfind(\"/\")  # Retorna la última.\n"
      ],
      "execution_count": null,
      "outputs": [
        {
          "output_type": "execute_result",
          "data": {
            "text/plain": [
              "11"
            ]
          },
          "metadata": {
            "tags": []
          },
          "execution_count": 72
        }
      ]
    },
    {
      "cell_type": "code",
      "metadata": {
        "colab": {
          "base_uri": "https://localhost:8080/"
        },
        "id": "fG5hDXodjmqC",
        "outputId": "86ad25c6-9e22-42d1-f72a-fba4978e4bbd"
      },
      "source": [
        "\"\"\" Problema 1:\n",
        "    Confeccionar una función que cargue por teclado una \n",
        "    lista de 5 enteros y la retorne. Una segunda función \n",
        "    debe recibir una lista y mostrar todos los valores mayores a 10. \n",
        "    Desde el bloque principal del programa llamar a ambas funciones.\n",
        "\"\"\"\n",
        "def carga_lista():\n",
        "    li=[]\n",
        "    for x in range(5):\n",
        "        valor=int(input(\"Ingrese valor:\"))\n",
        "        li.append(valor)\n",
        "    return li\n",
        "\n",
        "\n",
        "def imprimir_mayor10(li):\n",
        "    print(\"Elementos de la lista mayores a 10\")\n",
        "    for x in range(len(li)):\n",
        "        if li[x]>10:\n",
        "            print(li[x])\n",
        "\n",
        "\n",
        "# bloque principal del programa\n",
        "\n",
        "lista=carga_lista()\n",
        "imprimir_mayor10(lista)"
      ],
      "execution_count": null,
      "outputs": [
        {
          "output_type": "stream",
          "text": [
            "Ingrese valor:11\n",
            "Ingrese valor:5\n",
            "Ingrese valor:16\n",
            "Ingrese valor:20\n",
            "Ingrese valor:6\n",
            "Elementos de la lista mayores a 10\n",
            "11\n",
            "16\n",
            "20\n"
          ],
          "name": "stdout"
        }
      ]
    },
    {
      "cell_type": "code",
      "metadata": {
        "id": "uVvKOMJ4lCeh"
      },
      "source": [
        ""
      ],
      "execution_count": null,
      "outputs": []
    }
  ]
}