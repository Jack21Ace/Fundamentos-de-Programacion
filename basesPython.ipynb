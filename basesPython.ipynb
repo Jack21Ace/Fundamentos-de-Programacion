{
  "nbformat": 4,
  "nbformat_minor": 0,
  "metadata": {
    "colab": {
      "name": "Untitled0.ipynb",
      "provenance": [],
      "authorship_tag": "ABX9TyPmTTcUmRTqRKAjmpbfNHCK",
      "include_colab_link": true
    },
    "kernelspec": {
      "name": "python3",
      "display_name": "Python 3"
    }
  },
  "cells": [
    {
      "cell_type": "markdown",
      "metadata": {
        "id": "view-in-github",
        "colab_type": "text"
      },
      "source": [
        "<a href=\"https://colab.research.google.com/github/Jack21Ace/Fundamentos-de-Programacion/blob/master/basesPython.ipynb\" target=\"_parent\"><img src=\"https://colab.research.google.com/assets/colab-badge.svg\" alt=\"Open In Colab\"/></a>"
      ]
    },
    {
      "cell_type": "code",
      "metadata": {
        "colab": {
          "base_uri": "https://localhost:8080/",
          "height": 35
        },
        "id": "NX_8NGwFRm4_",
        "outputId": "519c0de5-ef97-483f-f76a-2f9614ed8b5e"
      },
      "source": [
        "\"\"\" Tipo de variables \"\"\"\n",
        "# Numero Entero INT\n",
        "numero = 5\n",
        "# Convertir a String(str)\n",
        "cadena = str(numero)\n",
        "# Imprimir cadena\n",
        "cadena"
      ],
      "execution_count": null,
      "outputs": [
        {
          "output_type": "execute_result",
          "data": {
            "application/vnd.google.colaboratory.intrinsic+json": {
              "type": "string"
            },
            "text/plain": [
              "'5'"
            ]
          },
          "metadata": {
            "tags": []
          },
          "execution_count": 3
        }
      ]
    },
    {
      "cell_type": "code",
      "metadata": {
        "colab": {
          "base_uri": "https://localhost:8080/"
        },
        "id": "ftLhC-0YRuKV",
        "outputId": "356800c5-2dac-4b66-ed1c-c5b59a909d94"
      },
      "source": [
        "numero"
      ],
      "execution_count": null,
      "outputs": [
        {
          "output_type": "execute_result",
          "data": {
            "text/plain": [
              "5"
            ]
          },
          "metadata": {
            "tags": []
          },
          "execution_count": 4
        }
      ]
    },
    {
      "cell_type": "code",
      "metadata": {
        "colab": {
          "base_uri": "https://localhost:8080/"
        },
        "id": "N9DSsNExR61R",
        "outputId": "e6cc9b6c-ceb0-4a92-f8ce-7694dbe49972"
      },
      "source": [
        "# Imprimir el tipo de dato de la variable\n",
        "type(cadena)"
      ],
      "execution_count": null,
      "outputs": [
        {
          "output_type": "execute_result",
          "data": {
            "text/plain": [
              "str"
            ]
          },
          "metadata": {
            "tags": []
          },
          "execution_count": 10
        }
      ]
    },
    {
      "cell_type": "code",
      "metadata": {
        "colab": {
          "base_uri": "https://localhost:8080/"
        },
        "id": "bi4lLD97YinI",
        "outputId": "476f394f-bd36-47ee-f860-7b1b5979364e"
      },
      "source": [
        "# tipo de dato Int\n",
        "numero1 = 5\n",
        "# tipo de dato float\n",
        "numero2 = 2.5\n",
        "# la suma puede imprimir decimales\n",
        "suma = numero1 + numero2\n",
        "# Imprimir Suma\n",
        "suma"
      ],
      "execution_count": null,
      "outputs": [
        {
          "output_type": "execute_result",
          "data": {
            "text/plain": [
              "7.5"
            ]
          },
          "metadata": {
            "tags": []
          },
          "execution_count": 9
        }
      ]
    },
    {
      "cell_type": "code",
      "metadata": {
        "colab": {
          "base_uri": "https://localhost:8080/"
        },
        "id": "X31dWGrVZNCC",
        "outputId": "933c5886-a6be-43ae-dbcb-7af25a02aa0d"
      },
      "source": [
        "# Convertir float a cadena\n",
        "cadena = \"1.416\"\n",
        "numeroDecimal = float(cadena)\n",
        "cadena\n",
        "numeroDecimal"
      ],
      "execution_count": null,
      "outputs": [
        {
          "output_type": "execute_result",
          "data": {
            "text/plain": [
              "1.618"
            ]
          },
          "metadata": {
            "tags": []
          },
          "execution_count": 13
        }
      ]
    },
    {
      "cell_type": "code",
      "metadata": {
        "colab": {
          "base_uri": "https://localhost:8080/"
        },
        "id": "ejOuFhZ8cShL",
        "outputId": "bf93c29b-e9f8-4966-d0d7-50336eb29e4c"
      },
      "source": [
        "# Decl Variable decimal/flotante\n",
        "numeroDecimal2 = 1.618\n",
        "sumaDecimal = numeroDecimal + numeroDecimal2\n",
        "sumaDecimal"
      ],
      "execution_count": null,
      "outputs": [
        {
          "output_type": "execute_result",
          "data": {
            "text/plain": [
              "3.236"
            ]
          },
          "metadata": {
            "tags": []
          },
          "execution_count": 24
        }
      ]
    },
    {
      "cell_type": "code",
      "metadata": {
        "colab": {
          "base_uri": "https://localhost:8080/"
        },
        "id": "CWaCQxu7ea-l",
        "outputId": "5adad4e0-8994-4fa1-db78-cad5d1a1815d"
      },
      "source": [
        "# Tipo de dato Entero(int)\n",
        "numero1 = 5\n",
        "# Tipo de dato decimal(float)\n",
        "numero2 = 6.5\n",
        "# Tipo de dato Entero(int)\n",
        "numero3 = 7\n",
        "# Tipo de dato decimal(float)\n",
        "suma = numero1 + numero2 + numero3\n",
        "\"\"\"print(\"Tipo de dato para #1\", type(numero1))\n",
        "print(\"Tipo de dato para #2\", type(numero2))\n",
        "print(\"Tipo de dato para #3\", type(numero3))\n",
        "print(\"Tipo de dato para suma\", type(suma))\"\"\"\n",
        "suma\n"
      ],
      "execution_count": null,
      "outputs": [
        {
          "output_type": "execute_result",
          "data": {
            "text/plain": [
              "18.5"
            ]
          },
          "metadata": {
            "tags": []
          },
          "execution_count": 33
        }
      ]
    },
    {
      "cell_type": "code",
      "metadata": {
        "colab": {
          "base_uri": "https://localhost:8080/",
          "height": 35
        },
        "id": "VW53FBoahuDL",
        "outputId": "a750fab8-a7a0-4b27-c418-d601bc4242c8"
      },
      "source": [
        "numero1 = 5\n",
        "numero2 = 3\n",
        "suma = numero1 + numero2\n",
        "strSuma = str(suma)\n",
        "result = \"El resultado es:\"+strSuma\n",
        "result"
      ],
      "execution_count": null,
      "outputs": [
        {
          "output_type": "execute_result",
          "data": {
            "application/vnd.google.colaboratory.intrinsic+json": {
              "type": "string"
            },
            "text/plain": [
              "'El resultado es:8'"
            ]
          },
          "metadata": {
            "tags": []
          },
          "execution_count": 39
        }
      ]
    },
    {
      "cell_type": "code",
      "metadata": {
        "colab": {
          "base_uri": "https://localhost:8080/",
          "height": 35
        },
        "id": "dmInYldLkGrq",
        "outputId": "3f7824d5-37bb-40aa-e94f-7dd100e67f66"
      },
      "source": [
        "cadena = \"Hola mundo\"\n",
        "cadena"
      ],
      "execution_count": null,
      "outputs": [
        {
          "output_type": "execute_result",
          "data": {
            "application/vnd.google.colaboratory.intrinsic+json": {
              "type": "string"
            },
            "text/plain": [
              "'Hola mundo'"
            ]
          },
          "metadata": {
            "tags": []
          },
          "execution_count": 40
        }
      ]
    },
    {
      "cell_type": "code",
      "metadata": {
        "colab": {
          "base_uri": "https://localhost:8080/",
          "height": 35
        },
        "id": "0p0TuL67vISB",
        "outputId": "f922dbbe-c4fb-4581-f6cd-3d98c4159e15"
      },
      "source": [
        "# H o l a   m u n d o\n",
        "# 0 1 2 3 4 5 6 7 8 9\n",
        "cadena[5]"
      ],
      "execution_count": null,
      "outputs": [
        {
          "output_type": "execute_result",
          "data": {
            "application/vnd.google.colaboratory.intrinsic+json": {
              "type": "string"
            },
            "text/plain": [
              "'m'"
            ]
          },
          "metadata": {
            "tags": []
          },
          "execution_count": 41
        }
      ]
    },
    {
      "cell_type": "code",
      "metadata": {
        "colab": {
          "base_uri": "https://localhost:8080/",
          "height": 35
        },
        "id": "aFOv3gp3vUYJ",
        "outputId": "120f3ed5-d3b3-4a2d-9797-78d91cf2925b"
      },
      "source": [
        "# Seleccionar elemento de la cadena\n",
        "cadena[-2]"
      ],
      "execution_count": null,
      "outputs": [
        {
          "output_type": "execute_result",
          "data": {
            "application/vnd.google.colaboratory.intrinsic+json": {
              "type": "string"
            },
            "text/plain": [
              "'d'"
            ]
          },
          "metadata": {
            "tags": []
          },
          "execution_count": 42
        }
      ]
    },
    {
      "cell_type": "code",
      "metadata": {
        "colab": {
          "base_uri": "https://localhost:8080/",
          "height": 35
        },
        "id": "iXTz4n8tvYeq",
        "outputId": "1600e6bc-6c86-413f-ba78-56441b27308a"
      },
      "source": [
        "# Seleccionar desde - hasta -1\n",
        "cadena [2:7]\n"
      ],
      "execution_count": null,
      "outputs": [
        {
          "output_type": "execute_result",
          "data": {
            "application/vnd.google.colaboratory.intrinsic+json": {
              "type": "string"
            },
            "text/plain": [
              "'la mu'"
            ]
          },
          "metadata": {
            "tags": []
          },
          "execution_count": 43
        }
      ]
    },
    {
      "cell_type": "code",
      "metadata": {
        "colab": {
          "base_uri": "https://localhost:8080/",
          "height": 35
        },
        "id": "IIwzbeycv2nV",
        "outputId": "700964f7-25d1-485d-ef7c-d5f8eaa15234"
      },
      "source": [
        "# Seleccionar desde - hasta ([2:>] o +1)\n",
        "cadena[2:7+1]"
      ],
      "execution_count": null,
      "outputs": [
        {
          "output_type": "execute_result",
          "data": {
            "application/vnd.google.colaboratory.intrinsic+json": {
              "type": "string"
            },
            "text/plain": [
              "'la mun'"
            ]
          },
          "metadata": {
            "tags": []
          },
          "execution_count": 44
        }
      ]
    },
    {
      "cell_type": "code",
      "metadata": {
        "colab": {
          "base_uri": "https://localhost:8080/",
          "height": 35
        },
        "id": "m7GFjn6zv5fp",
        "outputId": "73011b47-910a-49ac-bd1c-23f4007bab1b"
      },
      "source": [
        "# Selecciona desde hasta el final\n",
        "cadena[2:]"
      ],
      "execution_count": null,
      "outputs": [
        {
          "output_type": "execute_result",
          "data": {
            "application/vnd.google.colaboratory.intrinsic+json": {
              "type": "string"
            },
            "text/plain": [
              "'la mundo'"
            ]
          },
          "metadata": {
            "tags": []
          },
          "execution_count": 45
        }
      ]
    },
    {
      "cell_type": "code",
      "metadata": {
        "colab": {
          "base_uri": "https://localhost:8080/",
          "height": 35
        },
        "id": "N4idz3rTwm6z",
        "outputId": "a4766ad5-687c-487e-a591-73cc0c43ce63"
      },
      "source": [
        "# Funciones de cadenas\n",
        "cadena = \"Hola mundo\"\n",
        "cadena"
      ],
      "execution_count": 5,
      "outputs": [
        {
          "output_type": "execute_result",
          "data": {
            "application/vnd.google.colaboratory.intrinsic+json": {
              "type": "string"
            },
            "text/plain": [
              "'Hola mundo'"
            ]
          },
          "metadata": {
            "tags": []
          },
          "execution_count": 5
        }
      ]
    },
    {
      "cell_type": "code",
      "metadata": {
        "colab": {
          "base_uri": "https://localhost:8080/"
        },
        "id": "aOFzgge2xFcR",
        "outputId": "a15ad3c0-a914-4058-8266-51beab5e350e"
      },
      "source": [
        "len(cadena)"
      ],
      "execution_count": 6,
      "outputs": [
        {
          "output_type": "execute_result",
          "data": {
            "text/plain": [
              "10"
            ]
          },
          "metadata": {
            "tags": []
          },
          "execution_count": 6
        }
      ]
    },
    {
      "cell_type": "code",
      "metadata": {
        "colab": {
          "base_uri": "https://localhost:8080/",
          "height": 35
        },
        "id": "R4eNoj6bxLNy",
        "outputId": "3623e8cb-8968-4ab7-b2c1-ad4c2abe8de0"
      },
      "source": [
        "cadena.upper()"
      ],
      "execution_count": 7,
      "outputs": [
        {
          "output_type": "execute_result",
          "data": {
            "application/vnd.google.colaboratory.intrinsic+json": {
              "type": "string"
            },
            "text/plain": [
              "'HOLA MUNDO'"
            ]
          },
          "metadata": {
            "tags": []
          },
          "execution_count": 7
        }
      ]
    },
    {
      "cell_type": "code",
      "metadata": {
        "id": "G_pRN7AbxRHD"
      },
      "source": [
        "cadena = cadena.upper()"
      ],
      "execution_count": 8,
      "outputs": []
    },
    {
      "cell_type": "code",
      "metadata": {
        "colab": {
          "base_uri": "https://localhost:8080/",
          "height": 35
        },
        "id": "pLz1KShoxZEv",
        "outputId": "60b5dcf1-f124-4bd0-ab65-59ed7b3665e4"
      },
      "source": [
        "cadena"
      ],
      "execution_count": 9,
      "outputs": [
        {
          "output_type": "execute_result",
          "data": {
            "application/vnd.google.colaboratory.intrinsic+json": {
              "type": "string"
            },
            "text/plain": [
              "'HOLA MUNDO'"
            ]
          },
          "metadata": {
            "tags": []
          },
          "execution_count": 9
        }
      ]
    },
    {
      "cell_type": "code",
      "metadata": {
        "colab": {
          "base_uri": "https://localhost:8080/"
        },
        "id": "1xeMJS4IxbGa",
        "outputId": "303f0b9a-e500-4e41-bfbc-720c3d70d482"
      },
      "source": [
        "cadena.lower()\n",
        "cadena.split()"
      ],
      "execution_count": 12,
      "outputs": [
        {
          "output_type": "execute_result",
          "data": {
            "text/plain": [
              "['HOLA', 'MUNDO']"
            ]
          },
          "metadata": {
            "tags": []
          },
          "execution_count": 12
        }
      ]
    },
    {
      "cell_type": "code",
      "metadata": {
        "colab": {
          "base_uri": "https://localhost:8080/"
        },
        "id": "Z7opFG-AxkHL",
        "outputId": "9d4a6a48-c150-4aff-e4a5-3d97b6f7a671"
      },
      "source": [
        "# Crear cadena\n",
        "cadena2 = \"uva, manzanas, naranjas, bananas\"\n",
        "# separarlo por (,) \"tipo array\"\n",
        "cadena2.split(\",\")"
      ],
      "execution_count": null,
      "outputs": [
        {
          "output_type": "execute_result",
          "data": {
            "text/plain": [
              "['uva', ' manzanas', ' naranjas', ' bananas']"
            ]
          },
          "metadata": {
            "tags": []
          },
          "execution_count": 54
        }
      ]
    },
    {
      "cell_type": "code",
      "metadata": {
        "id": "cLgfBZAFxwYs",
        "colab": {
          "base_uri": "https://localhost:8080/"
        },
        "outputId": "69b5ba82-f17a-436a-bd11-a3e09b45d4fc"
      },
      "source": [
        "# Imprimir variables en una Cadena\n",
        "nombre =  \"Donald\"\n",
        "print(\"Buenos días \"+ nombre)"
      ],
      "execution_count": 14,
      "outputs": [
        {
          "output_type": "stream",
          "text": [
            "Buenos días Donald\n"
          ],
          "name": "stdout"
        }
      ]
    },
    {
      "cell_type": "code",
      "metadata": {
        "colab": {
          "base_uri": "https://localhost:8080/"
        },
        "id": "806APP9cXroL",
        "outputId": "f01f66cf-b3bb-4b96-cc2e-cb8f2393e8d2"
      },
      "source": [
        "# .format\n",
        "nombre =  \"Donald\"\n",
        "edad = 26\n",
        "print(\"Buenos días {}, Feliz {} Cumpleaños!!!\" .format(nombre, edad))"
      ],
      "execution_count": 16,
      "outputs": [
        {
          "output_type": "stream",
          "text": [
            "Buenos días Donald, Feliz 26 Cumpleaños!!!\n"
          ],
          "name": "stdout"
        }
      ]
    },
    {
      "cell_type": "code",
      "metadata": {
        "colab": {
          "base_uri": "https://localhost:8080/"
        },
        "id": "0OLcZY9xYMEN",
        "outputId": "3f8ab9e5-0afd-463e-9d0e-ee3dabd247bc"
      },
      "source": [
        "\"\"\"Si tenemos un numero con muchos decimales y queremos imprimirlo,\n",
        "   podemos setearlo de la siguiente manera\"\"\"\n",
        "resultado = 10/3\n",
        "resultado"
      ],
      "execution_count": 21,
      "outputs": [
        {
          "output_type": "execute_result",
          "data": {
            "text/plain": [
              "33.333333333333336"
            ]
          },
          "metadata": {
            "tags": []
          },
          "execution_count": 21
        }
      ]
    },
    {
      "cell_type": "code",
      "metadata": {
        "colab": {
          "base_uri": "https://localhost:8080/"
        },
        "id": "p7AMkjMfY_iR",
        "outputId": "042d8266-d4d5-4064-b0f6-b09421abb1fc"
      },
      "source": [
        "#Asiganomos el valor de resultado a r\n",
        "print(\"El resultado es {r}\" .format(r=resultado))"
      ],
      "execution_count": 18,
      "outputs": [
        {
          "output_type": "stream",
          "text": [
            "El resultado es 3.3333333333333335\n"
          ],
          "name": "stdout"
        }
      ]
    },
    {
      "cell_type": "code",
      "metadata": {
        "colab": {
          "base_uri": "https://localhost:8080/"
        },
        "id": "S6kpoL8jZMaN",
        "outputId": "b9aec12d-e21c-4160-bdbf-828eac03f71e"
      },
      "source": [
        "\"\"\" Para indicar desde y cuantos decimales, \n",
        "    lo hacemos despues de la r \"\"\"\n",
        "print(\"El resultado es {r:1.2f}\" .format(r=resultado))"
      ],
      "execution_count": 22,
      "outputs": [
        {
          "output_type": "stream",
          "text": [
            "El resultado es 33.33\n"
          ],
          "name": "stdout"
        }
      ]
    },
    {
      "cell_type": "code",
      "metadata": {
        "colab": {
          "base_uri": "https://localhost:8080/"
        },
        "id": "Pz13gryYZq2B",
        "outputId": "ca281ea2-856a-4039-c344-71e952a9bb16"
      },
      "source": [
        "# Imprimir con la funcion (f-string)\n",
        "nombre = \"Donald\"\n",
        "edad = 26\n",
        "print(f\"Buenos días {nombre}, Felis {edad} Cumpleaños!!!\")"
      ],
      "execution_count": 23,
      "outputs": [
        {
          "output_type": "stream",
          "text": [
            "Buenos días Donald, Felis 26 Cumpleaños!!!\n"
          ],
          "name": "stdout"
        }
      ]
    },
    {
      "cell_type": "code",
      "metadata": {
        "colab": {
          "base_uri": "https://localhost:8080/",
          "height": 35
        },
        "id": "j6fjzMmIaQpB",
        "outputId": "f8434439-ac33-481b-fbe4-9d7d1cb3cc0d"
      },
      "source": [
        "# Ejercicio\n",
        "cadena = \"Esto es un texto de ejemplo\"\n",
        "cadena"
      ],
      "execution_count": 36,
      "outputs": [
        {
          "output_type": "execute_result",
          "data": {
            "application/vnd.google.colaboratory.intrinsic+json": {
              "type": "string"
            },
            "text/plain": [
              "'Esto es un texto de ejemplo'"
            ]
          },
          "metadata": {
            "tags": []
          },
          "execution_count": 36
        }
      ]
    },
    {
      "cell_type": "code",
      "metadata": {
        "colab": {
          "base_uri": "https://localhost:8080/",
          "height": 35
        },
        "id": "I9ZdJJnxbEfX",
        "outputId": "9d4b31a1-843b-42ce-c9cf-eb34af952e55"
      },
      "source": [
        "cadena[11:16]"
      ],
      "execution_count": 37,
      "outputs": [
        {
          "output_type": "execute_result",
          "data": {
            "application/vnd.google.colaboratory.intrinsic+json": {
              "type": "string"
            },
            "text/plain": [
              "'texto'"
            ]
          },
          "metadata": {
            "tags": []
          },
          "execution_count": 37
        }
      ]
    },
    {
      "cell_type": "code",
      "metadata": {
        "colab": {
          "base_uri": "https://localhost:8080/",
          "height": 35
        },
        "id": "QQg0iQNQbUr2",
        "outputId": "64ffaeb5-3516-49f7-adab-ade3a23440a5"
      },
      "source": [
        "string = cadena[11:16]\n",
        "string"
      ],
      "execution_count": 38,
      "outputs": [
        {
          "output_type": "execute_result",
          "data": {
            "application/vnd.google.colaboratory.intrinsic+json": {
              "type": "string"
            },
            "text/plain": [
              "'texto'"
            ]
          },
          "metadata": {
            "tags": []
          },
          "execution_count": 38
        }
      ]
    },
    {
      "cell_type": "code",
      "metadata": {
        "colab": {
          "base_uri": "https://localhost:8080/",
          "height": 35
        },
        "id": "cZxdZxqDbbK4",
        "outputId": "e70d9570-40f2-4a8d-8111-39aa86ea6911"
      },
      "source": [
        "# Ejercicio 2 \n",
        "cadena = \"Esto es un texto de ejemplo\"\n",
        "cadena"
      ],
      "execution_count": 58,
      "outputs": [
        {
          "output_type": "execute_result",
          "data": {
            "application/vnd.google.colaboratory.intrinsic+json": {
              "type": "string"
            },
            "text/plain": [
              "'Esto es un texto de ejemplo'"
            ]
          },
          "metadata": {
            "tags": []
          },
          "execution_count": 58
        }
      ]
    },
    {
      "cell_type": "code",
      "metadata": {
        "colab": {
          "base_uri": "https://localhost:8080/"
        },
        "id": "h_Gr5qq0cjiD",
        "outputId": "27354f03-933f-4600-973e-8d0a95336888"
      },
      "source": [
        "len(cadena)"
      ],
      "execution_count": 54,
      "outputs": [
        {
          "output_type": "execute_result",
          "data": {
            "text/plain": [
              "27"
            ]
          },
          "metadata": {
            "tags": []
          },
          "execution_count": 54
        }
      ]
    },
    {
      "cell_type": "code",
      "metadata": {
        "colab": {
          "base_uri": "https://localhost:8080/"
        },
        "id": "2ZGDkLiec2kq",
        "outputId": "ffe0c772-09e5-403a-e5b7-0b34b3bb5e3c"
      },
      "source": [
        "longitud = len(cadena)\n",
        "longitud"
      ],
      "execution_count": 55,
      "outputs": [
        {
          "output_type": "execute_result",
          "data": {
            "text/plain": [
              "27"
            ]
          },
          "metadata": {
            "tags": []
          },
          "execution_count": 55
        }
      ]
    },
    {
      "cell_type": "code",
      "metadata": {
        "colab": {
          "base_uri": "https://localhost:8080/",
          "height": 35
        },
        "id": "VApLNZ5XdErM",
        "outputId": "cf4cf010-bb13-4c2f-cbe4-2d8c067d2d31"
      },
      "source": [
        "strLongitud = str(longitud)\n",
        "strLongitud"
      ],
      "execution_count": 56,
      "outputs": [
        {
          "output_type": "execute_result",
          "data": {
            "application/vnd.google.colaboratory.intrinsic+json": {
              "type": "string"
            },
            "text/plain": [
              "'27'"
            ]
          },
          "metadata": {
            "tags": []
          },
          "execution_count": 56
        }
      ]
    },
    {
      "cell_type": "code",
      "metadata": {
        "colab": {
          "base_uri": "https://localhost:8080/",
          "height": 35
        },
        "id": "ZaMS5o03dSXz",
        "outputId": "f09cc3ef-98a2-468d-dde1-35ea806b3c44"
      },
      "source": [
        "mayusculas = cadena.upper()\n",
        "mayusculas"
      ],
      "execution_count": 60,
      "outputs": [
        {
          "output_type": "execute_result",
          "data": {
            "application/vnd.google.colaboratory.intrinsic+json": {
              "type": "string"
            },
            "text/plain": [
              "'ESTO ES UN TEXTO DE EJEMPLO'"
            ]
          },
          "metadata": {
            "tags": []
          },
          "execution_count": 60
        }
      ]
    },
    {
      "cell_type": "code",
      "metadata": {
        "colab": {
          "base_uri": "https://localhost:8080/",
          "height": 35
        },
        "id": "YmDHtMjid1yk",
        "outputId": "645d3665-484f-4208-cbaa-141685036937"
      },
      "source": [
        "resultado = f\"{mayusculas} y tiene longitud de {strLongitud}\"\n",
        "resultado"
      ],
      "execution_count": 63,
      "outputs": [
        {
          "output_type": "execute_result",
          "data": {
            "application/vnd.google.colaboratory.intrinsic+json": {
              "type": "string"
            },
            "text/plain": [
              "'ESTO ES UN TEXTO DE EJEMPLO Tiene longitud de 27'"
            ]
          },
          "metadata": {
            "tags": []
          },
          "execution_count": 63
        }
      ]
    },
    {
      "cell_type": "code",
      "metadata": {
        "colab": {
          "base_uri": "https://localhost:8080/"
        },
        "id": "h-vxEvmeeX3h",
        "outputId": "908c6c8a-f830-491b-d1ec-ca164257c54c"
      },
      "source": [
        "# Ejercicio 3\n",
        "numero1 = 5\n",
        "numero2 = 8\n",
        "suma = numero1 + numero2\n",
        "print(\"El resultado de sumar {} mas {} es: {}\".format(numero1, numero2, suma))\n",
        "# O\n",
        "print(f\"El resultado de sumar {numero1} mas {numero2} es: {suma}\")"
      ],
      "execution_count": 70,
      "outputs": [
        {
          "output_type": "stream",
          "text": [
            "El resultado de sumar 5 mas 8 es: 13\n",
            "El resultado de sumar 5 mas 8 es: 13\n"
          ],
          "name": "stdout"
        }
      ]
    },
    {
      "cell_type": "code",
      "metadata": {
        "colab": {
          "base_uri": "https://localhost:8080/"
        },
        "id": "uf1f5TFdfLdz",
        "outputId": "2b4a568a-17c6-4e3e-e009-bada910b4b4a"
      },
      "source": [
        "# ejercicio 4\n",
        "dato1 = int(input(\"Introduce el 1er número: \"))\n",
        "dato1"
      ],
      "execution_count": 71,
      "outputs": [
        {
          "output_type": "stream",
          "text": [
            "Introduce el 1er número: 5\n"
          ],
          "name": "stdout"
        },
        {
          "output_type": "execute_result",
          "data": {
            "text/plain": [
              "5"
            ]
          },
          "metadata": {
            "tags": []
          },
          "execution_count": 71
        }
      ]
    },
    {
      "cell_type": "code",
      "metadata": {
        "colab": {
          "base_uri": "https://localhost:8080/"
        },
        "id": "VDRAqFSSgdH0",
        "outputId": "36a7f3ff-7db6-4304-db2d-5f0725a78802"
      },
      "source": [
        "dato2 = int(input(\"Introduce el 2do número: \"))\n",
        "dato2"
      ],
      "execution_count": 72,
      "outputs": [
        {
          "output_type": "stream",
          "text": [
            "Introduce el 2do número: 8\n"
          ],
          "name": "stdout"
        },
        {
          "output_type": "execute_result",
          "data": {
            "text/plain": [
              "8"
            ]
          },
          "metadata": {
            "tags": []
          },
          "execution_count": 72
        }
      ]
    },
    {
      "cell_type": "code",
      "metadata": {
        "colab": {
          "base_uri": "https://localhost:8080/",
          "height": 35
        },
        "id": "xhrIJzw1hfx2",
        "outputId": "70e8a8e9-43a4-4f3e-d12a-06d2d22a12c2"
      },
      "source": [
        "suma = dato1 + dato2\n",
        "strSuma = str(suma)\n",
        "resultado = \"El resultado de la suma es {}\".format(strSuma)\n",
        "resultado"
      ],
      "execution_count": 75,
      "outputs": [
        {
          "output_type": "execute_result",
          "data": {
            "application/vnd.google.colaboratory.intrinsic+json": {
              "type": "string"
            },
            "text/plain": [
              "'El resultado de la suma es 13'"
            ]
          },
          "metadata": {
            "tags": []
          },
          "execution_count": 75
        }
      ]
    },
    {
      "cell_type": "code",
      "metadata": {
        "colab": {
          "base_uri": "https://localhost:8080/"
        },
        "id": "Ntq2ANkhh1aU",
        "outputId": "9ed9a338-d435-48a4-bd7f-0dde14cb95fd"
      },
      "source": [
        "\"\"\" Operadores Aritmeticos (+,-,*,/,%,**,//) \"\"\"\n",
        "num1 = 10\n",
        "num2 = 5\n",
        "suma = num1 + num2\n",
        "suma"
      ],
      "execution_count": 77,
      "outputs": [
        {
          "output_type": "execute_result",
          "data": {
            "text/plain": [
              "15"
            ]
          },
          "metadata": {
            "tags": []
          },
          "execution_count": 77
        }
      ]
    },
    {
      "cell_type": "code",
      "metadata": {
        "colab": {
          "base_uri": "https://localhost:8080/"
        },
        "id": "CwoBhG_LtM4h",
        "outputId": "52a3fbcd-bd30-4bd9-d349-7cea4766975b"
      },
      "source": [
        "resta = num1 - num2\n",
        "resta"
      ],
      "execution_count": 78,
      "outputs": [
        {
          "output_type": "execute_result",
          "data": {
            "text/plain": [
              "5"
            ]
          },
          "metadata": {
            "tags": []
          },
          "execution_count": 78
        }
      ]
    },
    {
      "cell_type": "code",
      "metadata": {
        "colab": {
          "base_uri": "https://localhost:8080/"
        },
        "id": "iJuYUr-ItX9N",
        "outputId": "df72ee3f-2cb3-4153-b3e7-033fa8128434"
      },
      "source": [
        "multi = num1 * num2\n",
        "multi"
      ],
      "execution_count": 79,
      "outputs": [
        {
          "output_type": "execute_result",
          "data": {
            "text/plain": [
              "50"
            ]
          },
          "metadata": {
            "tags": []
          },
          "execution_count": 79
        }
      ]
    },
    {
      "cell_type": "code",
      "metadata": {
        "colab": {
          "base_uri": "https://localhost:8080/"
        },
        "id": "ZjtY9gZNtdwj",
        "outputId": "46c65903-689d-4c9e-9d50-59e7a4bd9442"
      },
      "source": [
        "division = num1 / num2\n",
        "division"
      ],
      "execution_count": 80,
      "outputs": [
        {
          "output_type": "execute_result",
          "data": {
            "text/plain": [
              "2.0"
            ]
          },
          "metadata": {
            "tags": []
          },
          "execution_count": 80
        }
      ]
    },
    {
      "cell_type": "code",
      "metadata": {
        "colab": {
          "base_uri": "https://localhost:8080/"
        },
        "id": "DV3_B0IvtjhN",
        "outputId": "7c4cbb6a-b05a-4965-83f4-5d64575a7bde"
      },
      "source": [
        "# Operador para Resto %\n",
        "num1 = 5\n",
        "num2 = 2\n",
        "resto = num1 % num2\n",
        "resto"
      ],
      "execution_count": 81,
      "outputs": [
        {
          "output_type": "execute_result",
          "data": {
            "text/plain": [
              "1"
            ]
          },
          "metadata": {
            "tags": []
          },
          "execution_count": 81
        }
      ]
    },
    {
      "cell_type": "code",
      "metadata": {
        "colab": {
          "base_uri": "https://localhost:8080/"
        },
        "id": "7J8oU-qGt-B2",
        "outputId": "0b72f321-a63b-427d-aa1c-b5bc571ffa8e"
      },
      "source": [
        "cociente = num1 // num2\n",
        "cociente"
      ],
      "execution_count": 82,
      "outputs": [
        {
          "output_type": "execute_result",
          "data": {
            "text/plain": [
              "2"
            ]
          },
          "metadata": {
            "tags": []
          },
          "execution_count": 82
        }
      ]
    },
    {
      "cell_type": "code",
      "metadata": {
        "colab": {
          "base_uri": "https://localhost:8080/"
        },
        "id": "UmyjLauYup6v",
        "outputId": "47729c74-0e29-4e4a-8738-6260a3aea1b8"
      },
      "source": [
        "exponente = 2 ** 3\n",
        "exponente"
      ],
      "execution_count": 83,
      "outputs": [
        {
          "output_type": "execute_result",
          "data": {
            "text/plain": [
              "8"
            ]
          },
          "metadata": {
            "tags": []
          },
          "execution_count": 83
        }
      ]
    },
    {
      "cell_type": "code",
      "metadata": {
        "colab": {
          "base_uri": "https://localhost:8080/"
        },
        "id": "jWU46P8Gu7wd",
        "outputId": "61d2698a-29ac-4f0f-b89d-e6002b5c88fc"
      },
      "source": [
        "# Operadores de asignación\n",
        "numero = 5\n",
        "numero = numero + 4 \n",
        "numero\n",
        "# es = a\n",
        "numero = 5\n",
        "numero += 4\n",
        "numero \n",
        "############\n"
      ],
      "execution_count": 90,
      "outputs": [
        {
          "output_type": "execute_result",
          "data": {
            "text/plain": [
              "9"
            ]
          },
          "metadata": {
            "tags": []
          },
          "execution_count": 90
        }
      ]
    },
    {
      "cell_type": "code",
      "metadata": {
        "colab": {
          "base_uri": "https://localhost:8080/"
        },
        "id": "65kueS7tvpd-",
        "outputId": "45a0a210-971f-42b4-ed84-c3d9b1ed3176"
      },
      "source": [
        "numero = 5\n",
        "numero = numero - 4 \n",
        "numero\n",
        "# es = a\n",
        "numero = 5\n",
        "numero -= 4\n",
        "numero "
      ],
      "execution_count": 92,
      "outputs": [
        {
          "output_type": "execute_result",
          "data": {
            "text/plain": [
              "1"
            ]
          },
          "metadata": {
            "tags": []
          },
          "execution_count": 92
        }
      ]
    },
    {
      "cell_type": "code",
      "metadata": {
        "colab": {
          "base_uri": "https://localhost:8080/"
        },
        "id": "DWTnZrWBwn6h",
        "outputId": "f878f6d1-802c-4f54-dae5-d1515076a499"
      },
      "source": [
        "numero = 5\n",
        "numero = numero * 4 \n",
        "numero\n",
        "# es = a\n",
        "numero = 5\n",
        "numero *= 4\n",
        "numero "
      ],
      "execution_count": 93,
      "outputs": [
        {
          "output_type": "execute_result",
          "data": {
            "text/plain": [
              "20"
            ]
          },
          "metadata": {
            "tags": []
          },
          "execution_count": 93
        }
      ]
    },
    {
      "cell_type": "code",
      "metadata": {
        "colab": {
          "base_uri": "https://localhost:8080/"
        },
        "id": "e0VLBml7wq2O",
        "outputId": "6881aae8-7ba0-46be-9486-4ec5e18315f7"
      },
      "source": [
        "numero = 5\n",
        "numero = numero / 4 \n",
        "numero\n",
        "# es = a\n",
        "numero = 5\n",
        "numero /= 4\n",
        "numero "
      ],
      "execution_count": 94,
      "outputs": [
        {
          "output_type": "execute_result",
          "data": {
            "text/plain": [
              "1.25"
            ]
          },
          "metadata": {
            "tags": []
          },
          "execution_count": 94
        }
      ]
    },
    {
      "cell_type": "code",
      "metadata": {
        "colab": {
          "base_uri": "https://localhost:8080/"
        },
        "id": "SoSTfRn9wtvZ",
        "outputId": "485e09a9-db41-4fee-bdc0-4478530e82b0"
      },
      "source": [
        "numero = 5\n",
        "numero = numero ** 4 \n",
        "numero\n",
        "# es = a\n",
        "numero = 5\n",
        "numero **= 4\n",
        "numero "
      ],
      "execution_count": 97,
      "outputs": [
        {
          "output_type": "execute_result",
          "data": {
            "text/plain": [
              "625"
            ]
          },
          "metadata": {
            "tags": []
          },
          "execution_count": 97
        }
      ]
    },
    {
      "cell_type": "code",
      "metadata": {
        "id": "e7OPLirzw4MI"
      },
      "source": [
        ""
      ],
      "execution_count": null,
      "outputs": []
    }
  ]
}