{
  "nbformat": 4,
  "nbformat_minor": 0,
  "metadata": {
    "colab": {
      "name": "basesPython.ipynb",
      "provenance": [],
      "include_colab_link": true
    },
    "kernelspec": {
      "name": "python3",
      "display_name": "Python 3"
    }
  },
  "cells": [
    {
      "cell_type": "markdown",
      "metadata": {
        "id": "view-in-github",
        "colab_type": "text"
      },
      "source": [
        "<a href=\"https://colab.research.google.com/github/Jack21Ace/Fundamentos-de-Programacion/blob/master/basesPython.ipynb\" target=\"_parent\"><img src=\"https://colab.research.google.com/assets/colab-badge.svg\" alt=\"Open In Colab\"/></a>"
      ]
    },
    {
      "cell_type": "code",
      "metadata": {
        "colab": {
          "base_uri": "https://localhost:8080/"
        },
        "id": "NX_8NGwFRm4_",
        "outputId": "399348b1-38c2-4c9e-ae3f-480e61da011d"
      },
      "source": [
        "\"\"\" Tipo de variables \"\"\"\n",
        "# Numero Entero INT\n",
        "numero = 5\n",
        "numero2 = 6\n",
        "# Convertir a String(str)\n",
        "cadena = str(numero+numero2)\n",
        "# Imprimir cadena\n",
        "cadena"
      ],
      "execution_count": null,
      "outputs": [
        {
          "output_type": "execute_result",
          "data": {
            "text/plain": [
              "11"
            ]
          },
          "metadata": {
            "tags": []
          },
          "execution_count": 2
        }
      ]
    },
    {
      "cell_type": "code",
      "metadata": {
        "id": "ftLhC-0YRuKV"
      },
      "source": [
        "numero"
      ],
      "execution_count": null,
      "outputs": []
    },
    {
      "cell_type": "code",
      "metadata": {
        "id": "N9DSsNExR61R"
      },
      "source": [
        "# Imprimir el tipo de dato de la variable\n",
        "print(type(numero))\n",
        "type(cadena)"
      ],
      "execution_count": null,
      "outputs": []
    },
    {
      "cell_type": "code",
      "metadata": {
        "colab": {
          "base_uri": "https://localhost:8080/"
        },
        "id": "bi4lLD97YinI",
        "outputId": "31defca0-346e-4f0b-d76d-7a780066cc2c"
      },
      "source": [
        "# tipo de dato Int\n",
        "numero1 = 5\n",
        "# tipo de dato float\n",
        "numero2 = 2.5\n",
        "# la suma puede imprimir decimales\n",
        "suma = numero1 + numero2\n",
        "# Imprimir Suma\n",
        "suma"
      ],
      "execution_count": null,
      "outputs": [
        {
          "output_type": "execute_result",
          "data": {
            "text/plain": [
              "7.5"
            ]
          },
          "metadata": {
            "tags": []
          },
          "execution_count": 3
        }
      ]
    },
    {
      "cell_type": "code",
      "metadata": {
        "colab": {
          "base_uri": "https://localhost:8080/",
          "height": 34
        },
        "id": "X31dWGrVZNCC",
        "outputId": "805188c6-c606-41ec-9520-8ed87bd16bc1"
      },
      "source": [
        "# Convertir float a cadena\n",
        "cadena = \"1.416\"\n",
        "numeroDecimal = str(cadena)\n",
        "cadena\n",
        "numeroDecimal"
      ],
      "execution_count": null,
      "outputs": [
        {
          "output_type": "execute_result",
          "data": {
            "application/vnd.google.colaboratory.intrinsic+json": {
              "type": "string"
            },
            "text/plain": [
              "'1.416'"
            ]
          },
          "metadata": {
            "tags": []
          },
          "execution_count": 4
        }
      ]
    },
    {
      "cell_type": "code",
      "metadata": {
        "colab": {
          "base_uri": "https://localhost:8080/"
        },
        "id": "ejOuFhZ8cShL",
        "outputId": "bf93c29b-e9f8-4966-d0d7-50336eb29e4c"
      },
      "source": [
        "# Decl Variable decimal/flotante\n",
        "numeroDecimal2 = 1.618\n",
        "sumaDecimal = numeroDecimal + numeroDecimal2\n",
        "sumaDecimal"
      ],
      "execution_count": null,
      "outputs": [
        {
          "output_type": "execute_result",
          "data": {
            "text/plain": [
              "3.236"
            ]
          },
          "metadata": {
            "tags": []
          },
          "execution_count": 24
        }
      ]
    },
    {
      "cell_type": "code",
      "metadata": {
        "colab": {
          "base_uri": "https://localhost:8080/"
        },
        "id": "CWaCQxu7ea-l",
        "outputId": "5adad4e0-8994-4fa1-db78-cad5d1a1815d"
      },
      "source": [
        "# Tipo de dato Entero(int)\n",
        "numero1 = 5\n",
        "# Tipo de dato decimal(float)\n",
        "numero2 = 6.5\n",
        "# Tipo de dato Entero(int)\n",
        "numero3 = 7\n",
        "# Tipo de dato decimal(float)\n",
        "suma = numero1 + numero2 + numero3\n",
        "\"\"\"print(\"Tipo de dato para #1\", type(numero1))\n",
        "print(\"Tipo de dato para #2\", type(numero2))\n",
        "print(\"Tipo de dato para #3\", type(numero3))\n",
        "print(\"Tipo de dato para suma\", type(suma))\"\"\"\n",
        "suma\n"
      ],
      "execution_count": null,
      "outputs": [
        {
          "output_type": "execute_result",
          "data": {
            "text/plain": [
              "18.5"
            ]
          },
          "metadata": {
            "tags": []
          },
          "execution_count": 33
        }
      ]
    },
    {
      "cell_type": "code",
      "metadata": {
        "colab": {
          "base_uri": "https://localhost:8080/",
          "height": 35
        },
        "id": "VW53FBoahuDL",
        "outputId": "a750fab8-a7a0-4b27-c418-d601bc4242c8"
      },
      "source": [
        "numero1 = 5\n",
        "numero2 = 3\n",
        "suma = numero1 + numero2\n",
        "strSuma = str(suma)\n",
        "result = \"El resultado es:\"+strSuma\n",
        "result"
      ],
      "execution_count": null,
      "outputs": [
        {
          "output_type": "execute_result",
          "data": {
            "application/vnd.google.colaboratory.intrinsic+json": {
              "type": "string"
            },
            "text/plain": [
              "'El resultado es:8'"
            ]
          },
          "metadata": {
            "tags": []
          },
          "execution_count": 39
        }
      ]
    },
    {
      "cell_type": "code",
      "metadata": {
        "colab": {
          "base_uri": "https://localhost:8080/",
          "height": 34
        },
        "id": "dmInYldLkGrq",
        "outputId": "373e80f1-ee72-4627-bb9c-da94201f6107"
      },
      "source": [
        "cadena = \"Hola mundo  \"\n",
        "cadena"
      ],
      "execution_count": null,
      "outputs": [
        {
          "output_type": "execute_result",
          "data": {
            "application/vnd.google.colaboratory.intrinsic+json": {
              "type": "string"
            },
            "text/plain": [
              "'Hola mundo  '"
            ]
          },
          "metadata": {
            "tags": []
          },
          "execution_count": 96
        }
      ]
    },
    {
      "cell_type": "code",
      "metadata": {
        "colab": {
          "base_uri": "https://localhost:8080/",
          "height": 34
        },
        "id": "0p0TuL67vISB",
        "outputId": "487e6c66-f0fd-4a5b-b9d5-2ea605b4b207"
      },
      "source": [
        "# H o l a   m u n d o\n",
        "# 0 1 2 3 4 5 6 7 8 9\n",
        "cadena[2]"
      ],
      "execution_count": null,
      "outputs": [
        {
          "output_type": "execute_result",
          "data": {
            "application/vnd.google.colaboratory.intrinsic+json": {
              "type": "string"
            },
            "text/plain": [
              "'l'"
            ]
          },
          "metadata": {
            "tags": []
          },
          "execution_count": 97
        }
      ]
    },
    {
      "cell_type": "code",
      "metadata": {
        "colab": {
          "base_uri": "https://localhost:8080/",
          "height": 35
        },
        "id": "aFOv3gp3vUYJ",
        "outputId": "a0364696-8619-4835-8069-f980aac55a3b"
      },
      "source": [
        "# Seleccionar elemento de la cadena\n",
        "cadena[-3]"
      ],
      "execution_count": null,
      "outputs": [
        {
          "output_type": "execute_result",
          "data": {
            "application/vnd.google.colaboratory.intrinsic+json": {
              "type": "string"
            },
            "text/plain": [
              "'o'"
            ]
          },
          "metadata": {
            "tags": []
          },
          "execution_count": 28
        }
      ]
    },
    {
      "cell_type": "code",
      "metadata": {
        "id": "iXTz4n8tvYeq"
      },
      "source": [
        "# Seleccionar desde - hasta -1\n",
        "cadena [2:7]\n"
      ],
      "execution_count": null,
      "outputs": []
    },
    {
      "cell_type": "code",
      "metadata": {
        "id": "IIwzbeycv2nV"
      },
      "source": [
        "# Seleccionar desde - hasta ([2:>] o +1)\n",
        "cadena[2:7+1]"
      ],
      "execution_count": null,
      "outputs": []
    },
    {
      "cell_type": "code",
      "metadata": {
        "id": "m7GFjn6zv5fp"
      },
      "source": [
        "# Selecciona desde hasta el final\n",
        "cadena[2:]"
      ],
      "execution_count": null,
      "outputs": []
    },
    {
      "cell_type": "code",
      "metadata": {
        "id": "N4idz3rTwm6z"
      },
      "source": [
        "# Funciones de cadenas\n",
        "cadena = \"Hola mundo\"\n",
        "cadena"
      ],
      "execution_count": null,
      "outputs": []
    },
    {
      "cell_type": "code",
      "metadata": {
        "id": "aOFzgge2xFcR"
      },
      "source": [
        "len(cadena)"
      ],
      "execution_count": null,
      "outputs": []
    },
    {
      "cell_type": "code",
      "metadata": {
        "id": "R4eNoj6bxLNy"
      },
      "source": [
        "cadena.upper()"
      ],
      "execution_count": null,
      "outputs": []
    },
    {
      "cell_type": "code",
      "metadata": {
        "id": "G_pRN7AbxRHD"
      },
      "source": [
        "cadena = cadena.upper()"
      ],
      "execution_count": null,
      "outputs": []
    },
    {
      "cell_type": "code",
      "metadata": {
        "colab": {
          "base_uri": "https://localhost:8080/",
          "height": 35
        },
        "id": "pLz1KShoxZEv",
        "outputId": "60b5dcf1-f124-4bd0-ab65-59ed7b3665e4"
      },
      "source": [
        "cadena"
      ],
      "execution_count": null,
      "outputs": [
        {
          "output_type": "execute_result",
          "data": {
            "application/vnd.google.colaboratory.intrinsic+json": {
              "type": "string"
            },
            "text/plain": [
              "'HOLA MUNDO'"
            ]
          },
          "metadata": {
            "tags": []
          },
          "execution_count": 9
        }
      ]
    },
    {
      "cell_type": "code",
      "metadata": {
        "colab": {
          "base_uri": "https://localhost:8080/"
        },
        "id": "1xeMJS4IxbGa",
        "outputId": "303f0b9a-e500-4e41-bfbc-720c3d70d482"
      },
      "source": [
        "cadena.lower()\n",
        "cadena.split()"
      ],
      "execution_count": null,
      "outputs": [
        {
          "output_type": "execute_result",
          "data": {
            "text/plain": [
              "['HOLA', 'MUNDO']"
            ]
          },
          "metadata": {
            "tags": []
          },
          "execution_count": 12
        }
      ]
    },
    {
      "cell_type": "code",
      "metadata": {
        "colab": {
          "base_uri": "https://localhost:8080/"
        },
        "id": "Z7opFG-AxkHL",
        "outputId": "9d4a6a48-c150-4aff-e4a5-3d97b6f7a671"
      },
      "source": [
        "# Crear cadena\n",
        "cadena2 = \"uva, manzanas, naranjas, bananas\"\n",
        "# separarlo por (,) \"tipo array\"\n",
        "cadena2.split(\",\")"
      ],
      "execution_count": null,
      "outputs": [
        {
          "output_type": "execute_result",
          "data": {
            "text/plain": [
              "['uva', ' manzanas', ' naranjas', ' bananas']"
            ]
          },
          "metadata": {
            "tags": []
          },
          "execution_count": 54
        }
      ]
    },
    {
      "cell_type": "code",
      "metadata": {
        "id": "cLgfBZAFxwYs",
        "colab": {
          "base_uri": "https://localhost:8080/"
        },
        "outputId": "69b5ba82-f17a-436a-bd11-a3e09b45d4fc"
      },
      "source": [
        "# Imprimir variables en una Cadena\n",
        "nombre =  \"Donald\"\n",
        "print(\"Buenos días \"+ nombre)"
      ],
      "execution_count": null,
      "outputs": [
        {
          "output_type": "stream",
          "text": [
            "Buenos días Donald\n"
          ],
          "name": "stdout"
        }
      ]
    },
    {
      "cell_type": "code",
      "metadata": {
        "colab": {
          "base_uri": "https://localhost:8080/"
        },
        "id": "806APP9cXroL",
        "outputId": "f01f66cf-b3bb-4b96-cc2e-cb8f2393e8d2"
      },
      "source": [
        "# .format\n",
        "nombre =  \"Donald\"\n",
        "edad = 26\n",
        "print(\"Buenos días {}, Feliz {} Cumpleaños!!!\" .format(nombre, edad))"
      ],
      "execution_count": null,
      "outputs": [
        {
          "output_type": "stream",
          "text": [
            "Buenos días Donald, Feliz 26 Cumpleaños!!!\n"
          ],
          "name": "stdout"
        }
      ]
    },
    {
      "cell_type": "code",
      "metadata": {
        "colab": {
          "base_uri": "https://localhost:8080/"
        },
        "id": "0OLcZY9xYMEN",
        "outputId": "3f8ab9e5-0afd-463e-9d0e-ee3dabd247bc"
      },
      "source": [
        "\"\"\"Si tenemos un numero con muchos decimales y queremos imprimirlo,\n",
        "   podemos setearlo de la siguiente manera\"\"\"\n",
        "resultado = 10/3\n",
        "resultado"
      ],
      "execution_count": null,
      "outputs": [
        {
          "output_type": "execute_result",
          "data": {
            "text/plain": [
              "33.333333333333336"
            ]
          },
          "metadata": {
            "tags": []
          },
          "execution_count": 21
        }
      ]
    },
    {
      "cell_type": "code",
      "metadata": {
        "colab": {
          "base_uri": "https://localhost:8080/"
        },
        "id": "p7AMkjMfY_iR",
        "outputId": "042d8266-d4d5-4064-b0f6-b09421abb1fc"
      },
      "source": [
        "#Asiganomos el valor de resultado a r\n",
        "print(\"El resultado es {r}\" .format(r=resultado))"
      ],
      "execution_count": null,
      "outputs": [
        {
          "output_type": "stream",
          "text": [
            "El resultado es 3.3333333333333335\n"
          ],
          "name": "stdout"
        }
      ]
    },
    {
      "cell_type": "code",
      "metadata": {
        "colab": {
          "base_uri": "https://localhost:8080/"
        },
        "id": "S6kpoL8jZMaN",
        "outputId": "b9aec12d-e21c-4160-bdbf-828eac03f71e"
      },
      "source": [
        "\"\"\" Para indicar desde y cuantos decimales, \n",
        "    lo hacemos despues de la r \"\"\"\n",
        "print(\"El resultado es {r:1.2f}\" .format(r=resultado))"
      ],
      "execution_count": null,
      "outputs": [
        {
          "output_type": "stream",
          "text": [
            "El resultado es 33.33\n"
          ],
          "name": "stdout"
        }
      ]
    },
    {
      "cell_type": "code",
      "metadata": {
        "colab": {
          "base_uri": "https://localhost:8080/"
        },
        "id": "Pz13gryYZq2B",
        "outputId": "ca281ea2-856a-4039-c344-71e952a9bb16"
      },
      "source": [
        "# Imprimir con la funcion (f-string)\n",
        "nombre = \"Donald\"\n",
        "edad = 26\n",
        "print(f\"Buenos días {nombre}, Felis {edad} Cumpleaños!!!\")"
      ],
      "execution_count": null,
      "outputs": [
        {
          "output_type": "stream",
          "text": [
            "Buenos días Donald, Felis 26 Cumpleaños!!!\n"
          ],
          "name": "stdout"
        }
      ]
    },
    {
      "cell_type": "code",
      "metadata": {
        "colab": {
          "base_uri": "https://localhost:8080/",
          "height": 35
        },
        "id": "j6fjzMmIaQpB",
        "outputId": "f8434439-ac33-481b-fbe4-9d7d1cb3cc0d"
      },
      "source": [
        "# Ejercicio\n",
        "cadena = \"Esto es un texto de ejemplo\"\n",
        "cadena"
      ],
      "execution_count": null,
      "outputs": [
        {
          "output_type": "execute_result",
          "data": {
            "application/vnd.google.colaboratory.intrinsic+json": {
              "type": "string"
            },
            "text/plain": [
              "'Esto es un texto de ejemplo'"
            ]
          },
          "metadata": {
            "tags": []
          },
          "execution_count": 36
        }
      ]
    },
    {
      "cell_type": "code",
      "metadata": {
        "colab": {
          "base_uri": "https://localhost:8080/",
          "height": 35
        },
        "id": "I9ZdJJnxbEfX",
        "outputId": "9d4b31a1-843b-42ce-c9cf-eb34af952e55"
      },
      "source": [
        "cadena[11:16]"
      ],
      "execution_count": null,
      "outputs": [
        {
          "output_type": "execute_result",
          "data": {
            "application/vnd.google.colaboratory.intrinsic+json": {
              "type": "string"
            },
            "text/plain": [
              "'texto'"
            ]
          },
          "metadata": {
            "tags": []
          },
          "execution_count": 37
        }
      ]
    },
    {
      "cell_type": "code",
      "metadata": {
        "colab": {
          "base_uri": "https://localhost:8080/",
          "height": 35
        },
        "id": "QQg0iQNQbUr2",
        "outputId": "64ffaeb5-3516-49f7-adab-ade3a23440a5"
      },
      "source": [
        "string = cadena[11:16]\n",
        "string"
      ],
      "execution_count": null,
      "outputs": [
        {
          "output_type": "execute_result",
          "data": {
            "application/vnd.google.colaboratory.intrinsic+json": {
              "type": "string"
            },
            "text/plain": [
              "'texto'"
            ]
          },
          "metadata": {
            "tags": []
          },
          "execution_count": 38
        }
      ]
    },
    {
      "cell_type": "code",
      "metadata": {
        "colab": {
          "base_uri": "https://localhost:8080/",
          "height": 35
        },
        "id": "cZxdZxqDbbK4",
        "outputId": "e70d9570-40f2-4a8d-8111-39aa86ea6911"
      },
      "source": [
        "# Ejercicio 2 \n",
        "cadena = \"Esto es un texto de ejemplo\"\n",
        "cadena"
      ],
      "execution_count": null,
      "outputs": [
        {
          "output_type": "execute_result",
          "data": {
            "application/vnd.google.colaboratory.intrinsic+json": {
              "type": "string"
            },
            "text/plain": [
              "'Esto es un texto de ejemplo'"
            ]
          },
          "metadata": {
            "tags": []
          },
          "execution_count": 58
        }
      ]
    },
    {
      "cell_type": "code",
      "metadata": {
        "colab": {
          "base_uri": "https://localhost:8080/"
        },
        "id": "h_Gr5qq0cjiD",
        "outputId": "27354f03-933f-4600-973e-8d0a95336888"
      },
      "source": [
        "len(cadena)"
      ],
      "execution_count": null,
      "outputs": [
        {
          "output_type": "execute_result",
          "data": {
            "text/plain": [
              "27"
            ]
          },
          "metadata": {
            "tags": []
          },
          "execution_count": 54
        }
      ]
    },
    {
      "cell_type": "code",
      "metadata": {
        "colab": {
          "base_uri": "https://localhost:8080/"
        },
        "id": "2ZGDkLiec2kq",
        "outputId": "ffe0c772-09e5-403a-e5b7-0b34b3bb5e3c"
      },
      "source": [
        "longitud = len(cadena)\n",
        "longitud"
      ],
      "execution_count": null,
      "outputs": [
        {
          "output_type": "execute_result",
          "data": {
            "text/plain": [
              "27"
            ]
          },
          "metadata": {
            "tags": []
          },
          "execution_count": 55
        }
      ]
    },
    {
      "cell_type": "code",
      "metadata": {
        "colab": {
          "base_uri": "https://localhost:8080/",
          "height": 35
        },
        "id": "VApLNZ5XdErM",
        "outputId": "cf4cf010-bb13-4c2f-cbe4-2d8c067d2d31"
      },
      "source": [
        "strLongitud = str(longitud)\n",
        "strLongitud"
      ],
      "execution_count": null,
      "outputs": [
        {
          "output_type": "execute_result",
          "data": {
            "application/vnd.google.colaboratory.intrinsic+json": {
              "type": "string"
            },
            "text/plain": [
              "'27'"
            ]
          },
          "metadata": {
            "tags": []
          },
          "execution_count": 56
        }
      ]
    },
    {
      "cell_type": "code",
      "metadata": {
        "colab": {
          "base_uri": "https://localhost:8080/",
          "height": 35
        },
        "id": "ZaMS5o03dSXz",
        "outputId": "f09cc3ef-98a2-468d-dde1-35ea806b3c44"
      },
      "source": [
        "mayusculas = cadena.upper()\n",
        "mayusculas"
      ],
      "execution_count": null,
      "outputs": [
        {
          "output_type": "execute_result",
          "data": {
            "application/vnd.google.colaboratory.intrinsic+json": {
              "type": "string"
            },
            "text/plain": [
              "'ESTO ES UN TEXTO DE EJEMPLO'"
            ]
          },
          "metadata": {
            "tags": []
          },
          "execution_count": 60
        }
      ]
    },
    {
      "cell_type": "code",
      "metadata": {
        "colab": {
          "base_uri": "https://localhost:8080/",
          "height": 35
        },
        "id": "YmDHtMjid1yk",
        "outputId": "645d3665-484f-4208-cbaa-141685036937"
      },
      "source": [
        "resultado = f\"{mayusculas} y tiene longitud de {strLongitud}\"\n",
        "resultado"
      ],
      "execution_count": null,
      "outputs": [
        {
          "output_type": "execute_result",
          "data": {
            "application/vnd.google.colaboratory.intrinsic+json": {
              "type": "string"
            },
            "text/plain": [
              "'ESTO ES UN TEXTO DE EJEMPLO Tiene longitud de 27'"
            ]
          },
          "metadata": {
            "tags": []
          },
          "execution_count": 63
        }
      ]
    },
    {
      "cell_type": "code",
      "metadata": {
        "colab": {
          "base_uri": "https://localhost:8080/"
        },
        "id": "h-vxEvmeeX3h",
        "outputId": "908c6c8a-f830-491b-d1ec-ca164257c54c"
      },
      "source": [
        "# Ejercicio 3\n",
        "numero1 = 5\n",
        "numero2 = 8\n",
        "suma = numero1 + numero2\n",
        "print(\"El resultado de sumar {} mas {} es: {}\".format(numero1, numero2, suma))\n",
        "# O\n",
        "print(f\"El resultado de sumar {numero1} mas {numero2} es: {suma}\")"
      ],
      "execution_count": null,
      "outputs": [
        {
          "output_type": "stream",
          "text": [
            "El resultado de sumar 5 mas 8 es: 13\n",
            "El resultado de sumar 5 mas 8 es: 13\n"
          ],
          "name": "stdout"
        }
      ]
    },
    {
      "cell_type": "code",
      "metadata": {
        "colab": {
          "base_uri": "https://localhost:8080/"
        },
        "id": "uf1f5TFdfLdz",
        "outputId": "2b4a568a-17c6-4e3e-e009-bada910b4b4a"
      },
      "source": [
        "# ejercicio 4\n",
        "dato1 = int(input(\"Introduce el 1er número: \"))\n",
        "dato1"
      ],
      "execution_count": null,
      "outputs": [
        {
          "output_type": "stream",
          "text": [
            "Introduce el 1er número: 5\n"
          ],
          "name": "stdout"
        },
        {
          "output_type": "execute_result",
          "data": {
            "text/plain": [
              "5"
            ]
          },
          "metadata": {
            "tags": []
          },
          "execution_count": 71
        }
      ]
    },
    {
      "cell_type": "code",
      "metadata": {
        "colab": {
          "base_uri": "https://localhost:8080/"
        },
        "id": "VDRAqFSSgdH0",
        "outputId": "36a7f3ff-7db6-4304-db2d-5f0725a78802"
      },
      "source": [
        "dato2 = int(input(\"Introduce el 2do número: \"))\n",
        "dato2"
      ],
      "execution_count": null,
      "outputs": [
        {
          "output_type": "stream",
          "text": [
            "Introduce el 2do número: 8\n"
          ],
          "name": "stdout"
        },
        {
          "output_type": "execute_result",
          "data": {
            "text/plain": [
              "8"
            ]
          },
          "metadata": {
            "tags": []
          },
          "execution_count": 72
        }
      ]
    },
    {
      "cell_type": "code",
      "metadata": {
        "colab": {
          "base_uri": "https://localhost:8080/",
          "height": 35
        },
        "id": "xhrIJzw1hfx2",
        "outputId": "70e8a8e9-43a4-4f3e-d12a-06d2d22a12c2"
      },
      "source": [
        "suma = dato1 + dato2\n",
        "strSuma = str(suma)\n",
        "resultado = \"El resultado de la suma es {}\".format(strSuma)\n",
        "resultado"
      ],
      "execution_count": null,
      "outputs": [
        {
          "output_type": "execute_result",
          "data": {
            "application/vnd.google.colaboratory.intrinsic+json": {
              "type": "string"
            },
            "text/plain": [
              "'El resultado de la suma es 13'"
            ]
          },
          "metadata": {
            "tags": []
          },
          "execution_count": 75
        }
      ]
    },
    {
      "cell_type": "code",
      "metadata": {
        "colab": {
          "base_uri": "https://localhost:8080/"
        },
        "id": "Ntq2ANkhh1aU",
        "outputId": "9ed9a338-d435-48a4-bd7f-0dde14cb95fd"
      },
      "source": [
        "\"\"\" Operadores Aritmeticos (+,-,*,/,%,**,//) \"\"\"\n",
        "num1 = 10\n",
        "num2 = 5\n",
        "suma = num1 + num2\n",
        "suma"
      ],
      "execution_count": null,
      "outputs": [
        {
          "output_type": "execute_result",
          "data": {
            "text/plain": [
              "15"
            ]
          },
          "metadata": {
            "tags": []
          },
          "execution_count": 77
        }
      ]
    },
    {
      "cell_type": "code",
      "metadata": {
        "colab": {
          "base_uri": "https://localhost:8080/"
        },
        "id": "CwoBhG_LtM4h",
        "outputId": "52a3fbcd-bd30-4bd9-d349-7cea4766975b"
      },
      "source": [
        "resta = num1 - num2\n",
        "resta"
      ],
      "execution_count": null,
      "outputs": [
        {
          "output_type": "execute_result",
          "data": {
            "text/plain": [
              "5"
            ]
          },
          "metadata": {
            "tags": []
          },
          "execution_count": 78
        }
      ]
    },
    {
      "cell_type": "code",
      "metadata": {
        "colab": {
          "base_uri": "https://localhost:8080/"
        },
        "id": "iJuYUr-ItX9N",
        "outputId": "df72ee3f-2cb3-4153-b3e7-033fa8128434"
      },
      "source": [
        "multi = num1 * num2\n",
        "multi"
      ],
      "execution_count": null,
      "outputs": [
        {
          "output_type": "execute_result",
          "data": {
            "text/plain": [
              "50"
            ]
          },
          "metadata": {
            "tags": []
          },
          "execution_count": 79
        }
      ]
    },
    {
      "cell_type": "code",
      "metadata": {
        "colab": {
          "base_uri": "https://localhost:8080/"
        },
        "id": "ZjtY9gZNtdwj",
        "outputId": "46c65903-689d-4c9e-9d50-59e7a4bd9442"
      },
      "source": [
        "division = num1 / num2\n",
        "division"
      ],
      "execution_count": null,
      "outputs": [
        {
          "output_type": "execute_result",
          "data": {
            "text/plain": [
              "2.0"
            ]
          },
          "metadata": {
            "tags": []
          },
          "execution_count": 80
        }
      ]
    },
    {
      "cell_type": "code",
      "metadata": {
        "colab": {
          "base_uri": "https://localhost:8080/"
        },
        "id": "DV3_B0IvtjhN",
        "outputId": "7c4cbb6a-b05a-4965-83f4-5d64575a7bde"
      },
      "source": [
        "# Operador para Resto %\n",
        "num1 = 5\n",
        "num2 = 2\n",
        "resto = num1 % num2\n",
        "resto"
      ],
      "execution_count": null,
      "outputs": [
        {
          "output_type": "execute_result",
          "data": {
            "text/plain": [
              "1"
            ]
          },
          "metadata": {
            "tags": []
          },
          "execution_count": 81
        }
      ]
    },
    {
      "cell_type": "code",
      "metadata": {
        "colab": {
          "base_uri": "https://localhost:8080/"
        },
        "id": "7J8oU-qGt-B2",
        "outputId": "0b72f321-a63b-427d-aa1c-b5bc571ffa8e"
      },
      "source": [
        "cociente = num1 // num2\n",
        "cociente"
      ],
      "execution_count": null,
      "outputs": [
        {
          "output_type": "execute_result",
          "data": {
            "text/plain": [
              "2"
            ]
          },
          "metadata": {
            "tags": []
          },
          "execution_count": 82
        }
      ]
    },
    {
      "cell_type": "code",
      "metadata": {
        "colab": {
          "base_uri": "https://localhost:8080/"
        },
        "id": "UmyjLauYup6v",
        "outputId": "47729c74-0e29-4e4a-8738-6260a3aea1b8"
      },
      "source": [
        "exponente = 2 ** 3\n",
        "exponente"
      ],
      "execution_count": null,
      "outputs": [
        {
          "output_type": "execute_result",
          "data": {
            "text/plain": [
              "8"
            ]
          },
          "metadata": {
            "tags": []
          },
          "execution_count": 83
        }
      ]
    },
    {
      "cell_type": "code",
      "metadata": {
        "colab": {
          "base_uri": "https://localhost:8080/"
        },
        "id": "jWU46P8Gu7wd",
        "outputId": "61d2698a-29ac-4f0f-b89d-e6002b5c88fc"
      },
      "source": [
        "# Operadores de asignación\n",
        "numero = 5\n",
        "numero = numero + 4 \n",
        "numero\n",
        "# es = a\n",
        "numero = 5\n",
        "numero += 4\n",
        "numero \n",
        "############\n"
      ],
      "execution_count": null,
      "outputs": [
        {
          "output_type": "execute_result",
          "data": {
            "text/plain": [
              "9"
            ]
          },
          "metadata": {
            "tags": []
          },
          "execution_count": 90
        }
      ]
    },
    {
      "cell_type": "code",
      "metadata": {
        "colab": {
          "base_uri": "https://localhost:8080/"
        },
        "id": "65kueS7tvpd-",
        "outputId": "45a0a210-971f-42b4-ed84-c3d9b1ed3176"
      },
      "source": [
        "numero = 5\n",
        "numero = numero - 4 \n",
        "numero\n",
        "# es = a\n",
        "numero = 5\n",
        "numero -= 4\n",
        "numero "
      ],
      "execution_count": null,
      "outputs": [
        {
          "output_type": "execute_result",
          "data": {
            "text/plain": [
              "1"
            ]
          },
          "metadata": {
            "tags": []
          },
          "execution_count": 92
        }
      ]
    },
    {
      "cell_type": "code",
      "metadata": {
        "colab": {
          "base_uri": "https://localhost:8080/"
        },
        "id": "DWTnZrWBwn6h",
        "outputId": "f878f6d1-802c-4f54-dae5-d1515076a499"
      },
      "source": [
        "numero = 5\n",
        "numero = numero * 4 \n",
        "numero\n",
        "# es = a\n",
        "numero = 5\n",
        "numero *= 4\n",
        "numero "
      ],
      "execution_count": null,
      "outputs": [
        {
          "output_type": "execute_result",
          "data": {
            "text/plain": [
              "20"
            ]
          },
          "metadata": {
            "tags": []
          },
          "execution_count": 93
        }
      ]
    },
    {
      "cell_type": "code",
      "metadata": {
        "colab": {
          "base_uri": "https://localhost:8080/"
        },
        "id": "e0VLBml7wq2O",
        "outputId": "6881aae8-7ba0-46be-9486-4ec5e18315f7"
      },
      "source": [
        "numero = 5\n",
        "numero = numero / 4 \n",
        "numero\n",
        "# es = a\n",
        "numero = 5\n",
        "numero /= 4\n",
        "numero "
      ],
      "execution_count": null,
      "outputs": [
        {
          "output_type": "execute_result",
          "data": {
            "text/plain": [
              "1.25"
            ]
          },
          "metadata": {
            "tags": []
          },
          "execution_count": 94
        }
      ]
    },
    {
      "cell_type": "code",
      "metadata": {
        "colab": {
          "base_uri": "https://localhost:8080/"
        },
        "id": "SoSTfRn9wtvZ",
        "outputId": "485e09a9-db41-4fee-bdc0-4478530e82b0"
      },
      "source": [
        "numero = 5\n",
        "numero = numero ** 4 \n",
        "numero\n",
        "# es = a\n",
        "numero = 5\n",
        "numero **= 4\n",
        "numero "
      ],
      "execution_count": null,
      "outputs": [
        {
          "output_type": "execute_result",
          "data": {
            "text/plain": [
              "625"
            ]
          },
          "metadata": {
            "tags": []
          },
          "execution_count": 97
        }
      ]
    },
    {
      "cell_type": "code",
      "metadata": {
        "id": "e7OPLirzw4MI",
        "colab": {
          "base_uri": "https://localhost:8080/"
        },
        "outputId": "da7d0bd6-8bd4-453a-aba5-f4008a613cb7"
      },
      "source": [
        "# Operadores de identidad en Python\n",
        "frutas1 = [\"Manzanas\", \"peras\"]\n",
        "frutas2 = [\"Manzanas\", \"peras\"]\n",
        "frutas3 = frutas1\n",
        "frutas3 is frutas1"
      ],
      "execution_count": null,
      "outputs": [
        {
          "output_type": "execute_result",
          "data": {
            "text/plain": [
              "True"
            ]
          },
          "metadata": {
            "tags": []
          },
          "execution_count": 1
        }
      ]
    },
    {
      "cell_type": "code",
      "metadata": {
        "colab": {
          "base_uri": "https://localhost:8080/"
        },
        "id": "_5PH2I7T9ffY",
        "outputId": "003c2b92-3d99-4092-fb70-2b8ec3671f4a"
      },
      "source": [
        "frutas3.append(\"naranja\")\n",
        "frutas3"
      ],
      "execution_count": null,
      "outputs": [
        {
          "output_type": "execute_result",
          "data": {
            "text/plain": [
              "['Manzanas', 'peras', 'naranja']"
            ]
          },
          "metadata": {
            "tags": []
          },
          "execution_count": 2
        }
      ]
    },
    {
      "cell_type": "code",
      "metadata": {
        "colab": {
          "base_uri": "https://localhost:8080/"
        },
        "id": "GWpr-SxQ9ne3",
        "outputId": "9be0173d-ee75-4ce3-9822-d0d03c640dd6"
      },
      "source": [
        "frutas1"
      ],
      "execution_count": null,
      "outputs": [
        {
          "output_type": "execute_result",
          "data": {
            "text/plain": [
              "['Manzanas', 'peras', 'naranja']"
            ]
          },
          "metadata": {
            "tags": []
          },
          "execution_count": 3
        }
      ]
    },
    {
      "cell_type": "code",
      "metadata": {
        "colab": {
          "base_uri": "https://localhost:8080/"
        },
        "id": "a9xiyfsm9sFP",
        "outputId": "6acab05a-9d2d-4bbb-edd5-6462e0168118"
      },
      "source": [
        "frutas3 is not frutas1"
      ],
      "execution_count": null,
      "outputs": [
        {
          "output_type": "execute_result",
          "data": {
            "text/plain": [
              "False"
            ]
          },
          "metadata": {
            "tags": []
          },
          "execution_count": 4
        }
      ]
    },
    {
      "cell_type": "code",
      "metadata": {
        "colab": {
          "base_uri": "https://localhost:8080/"
        },
        "id": "cLO23-Bl90md",
        "outputId": "6ee9f7f0-24c6-4bb1-9362-4566c702f53e"
      },
      "source": [
        "# Operadores de pertenencia\n",
        "frutas1 = ['Manzanas', 'pera', 'naranja']\n",
        "frutas2 = \"pera\"\n",
        "# Validar si hay coincidencia de frutas2 con frutas1\n",
        "frutas2 in frutas1"
      ],
      "execution_count": null,
      "outputs": [
        {
          "output_type": "execute_result",
          "data": {
            "text/plain": [
              "True"
            ]
          },
          "metadata": {
            "tags": []
          },
          "execution_count": 6
        }
      ]
    },
    {
      "cell_type": "code",
      "metadata": {
        "colab": {
          "base_uri": "https://localhost:8080/"
        },
        "id": "06XZ2FK--QEA",
        "outputId": "1721a710-419c-402f-9797-61271a0fc291"
      },
      "source": [
        "frutras3 = \"Melocoton\"\n",
        "frutas3 in frutas1"
      ],
      "execution_count": null,
      "outputs": [
        {
          "output_type": "execute_result",
          "data": {
            "text/plain": [
              "False"
            ]
          },
          "metadata": {
            "tags": []
          },
          "execution_count": 7
        }
      ]
    },
    {
      "cell_type": "code",
      "metadata": {
        "colab": {
          "base_uri": "https://localhost:8080/"
        },
        "id": "ywLQZsVW-Yuy",
        "outputId": "ec14e71e-f174-4fd0-c6dd-8854aa7cb39a"
      },
      "source": [
        "# Ejercicio1\n",
        "nota1 = 6\n",
        "nota2 = 4\n",
        "nota3 = 7\n",
        "notaMedia = (nota1 + nota2 + nota3) / 3\n",
        "notaMedia\n"
      ],
      "execution_count": null,
      "outputs": [
        {
          "output_type": "execute_result",
          "data": {
            "text/plain": [
              "5.666666666666667"
            ]
          },
          "metadata": {
            "tags": []
          },
          "execution_count": 24
        }
      ]
    },
    {
      "cell_type": "code",
      "metadata": {
        "colab": {
          "base_uri": "https://localhost:8080/"
        },
        "id": "g-Ao7e9e_F1a",
        "outputId": "ec97c912-a50d-49e5-d392-ebdd627808b7"
      },
      "source": [
        "if (notaMedia >= 5):\n",
        "  notaFinal = \"Aprobado\"\n",
        "  #print(notaFinal)"
      ],
      "execution_count": null,
      "outputs": [
        {
          "output_type": "stream",
          "text": [
            "Aprobado\n"
          ],
          "name": "stdout"
        }
      ]
    },
    {
      "cell_type": "code",
      "metadata": {
        "id": "ad8WNk_WAZeX",
        "colab": {
          "base_uri": "https://localhost:8080/"
        },
        "outputId": "36bf6d8f-533e-4fdc-fb1a-11b79e2abf71"
      },
      "source": [
        "#Ejercicio 2\n",
        "minimo = 20\n",
        "maximo = 500\n",
        "dato = input(\"Ingrese un numero \")\n",
        "numero = int(dato)\n",
        "numero\n",
        "if (numero < minimo):\n",
        "    print(\"Valor bajo\")\n",
        "\n",
        "if (numero > maximo):\n",
        "    print(\"Valor alto\")\n",
        "\n",
        "if (numero > minimo) and (numero < maximo):\n",
        "    print(\"Valor medio\")"
      ],
      "execution_count": null,
      "outputs": [
        {
          "output_type": "stream",
          "text": [
            "Ingrese un numero 501\n",
            "Valor alto\n",
            "Ingrese un numero 85\n",
            "No es un numero\n"
          ],
          "name": "stdout"
        }
      ]
    },
    {
      "cell_type": "code",
      "metadata": {
        "colab": {
          "base_uri": "https://localhost:8080/"
        },
        "id": "gF8gnaFyGLf2",
        "outputId": "77eefbca-2601-4160-d3a4-b7d3ea7a3d8f"
      },
      "source": [
        "# Ejercicio 3\n",
        "numeros = [1,2,3,4,5,6,7,8,9,10]\n",
        "numeros\n",
        "dato = input()\n",
        "numero = int(dato)\n",
        "if (numero in numeros):\n",
        "    print(\"Si\")\n",
        "else:\n",
        "    print(\"No\")    "
      ],
      "execution_count": null,
      "outputs": [
        {
          "output_type": "stream",
          "text": [
            "11\n",
            "No\n"
          ],
          "name": "stdout"
        }
      ]
    },
    {
      "cell_type": "code",
      "metadata": {
        "colab": {
          "base_uri": "https://localhost:8080/"
        },
        "id": "z_2jUSf_JfBU",
        "outputId": "ae4b1a8a-9833-468e-8ca9-388c13d1fd62"
      },
      "source": [
        "# Listas\n",
        "colores = [\"rojo\", \"amarillo\", \"verde\"]\n",
        "colores"
      ],
      "execution_count": null,
      "outputs": [
        {
          "output_type": "execute_result",
          "data": {
            "text/plain": [
              "['rojo', 'amarillo', 'verde']"
            ]
          },
          "metadata": {
            "tags": []
          },
          "execution_count": 23
        }
      ]
    },
    {
      "cell_type": "code",
      "metadata": {
        "colab": {
          "base_uri": "https://localhost:8080/",
          "height": 35
        },
        "id": "uaDQPj7UK4Ic",
        "outputId": "aa3b0abc-e7bd-47ca-e554-1d389d545c20"
      },
      "source": [
        "colores[0]"
      ],
      "execution_count": null,
      "outputs": [
        {
          "output_type": "execute_result",
          "data": {
            "application/vnd.google.colaboratory.intrinsic+json": {
              "type": "string"
            },
            "text/plain": [
              "'rojo'"
            ]
          },
          "metadata": {
            "tags": []
          },
          "execution_count": 25
        }
      ]
    },
    {
      "cell_type": "code",
      "metadata": {
        "id": "NrgHTh84K-Wt"
      },
      "source": [
        "colores[1]= \"azul\""
      ],
      "execution_count": null,
      "outputs": []
    },
    {
      "cell_type": "code",
      "metadata": {
        "colab": {
          "base_uri": "https://localhost:8080/"
        },
        "id": "-y0y67kiLHIt",
        "outputId": "3f7bacd9-fb80-495c-8573-f8cad611c3f1"
      },
      "source": [
        "colores"
      ],
      "execution_count": null,
      "outputs": [
        {
          "output_type": "execute_result",
          "data": {
            "text/plain": [
              "['rojo', 'azul', 'verde']"
            ]
          },
          "metadata": {
            "tags": []
          },
          "execution_count": 27
        }
      ]
    },
    {
      "cell_type": "code",
      "metadata": {
        "colab": {
          "base_uri": "https://localhost:8080/"
        },
        "id": "EXrnjTV1LIYe",
        "outputId": "ca777b5d-2465-402d-e489-b5e9ef8a1f3a"
      },
      "source": [
        "len(colores)"
      ],
      "execution_count": null,
      "outputs": [
        {
          "output_type": "execute_result",
          "data": {
            "text/plain": [
              "3"
            ]
          },
          "metadata": {
            "tags": []
          },
          "execution_count": 28
        }
      ]
    },
    {
      "cell_type": "code",
      "metadata": {
        "id": "jmNtN5abLMU1"
      },
      "source": [
        "colores.append(\"naranja\")"
      ],
      "execution_count": null,
      "outputs": []
    },
    {
      "cell_type": "code",
      "metadata": {
        "colab": {
          "base_uri": "https://localhost:8080/"
        },
        "id": "nEgURN1aLSA8",
        "outputId": "069ea66c-b01b-4706-d42f-2ed9ccba30bf"
      },
      "source": [
        "colores"
      ],
      "execution_count": null,
      "outputs": [
        {
          "output_type": "execute_result",
          "data": {
            "text/plain": [
              "['rojo', 'azul', 'verde', 'naranja']"
            ]
          },
          "metadata": {
            "tags": []
          },
          "execution_count": 30
        }
      ]
    },
    {
      "cell_type": "code",
      "metadata": {
        "colab": {
          "base_uri": "https://localhost:8080/",
          "height": 35
        },
        "id": "Eqq7GycpLUNf",
        "outputId": "571aa560-e66a-4c76-8856-54c59afe6b24"
      },
      "source": [
        "colores[3]"
      ],
      "execution_count": null,
      "outputs": [
        {
          "output_type": "execute_result",
          "data": {
            "application/vnd.google.colaboratory.intrinsic+json": {
              "type": "string"
            },
            "text/plain": [
              "'naranja'"
            ]
          },
          "metadata": {
            "tags": []
          },
          "execution_count": 31
        }
      ]
    },
    {
      "cell_type": "code",
      "metadata": {
        "id": "5n9euzlKLV21"
      },
      "source": [
        "colores.remove(\"rojo\")"
      ],
      "execution_count": null,
      "outputs": []
    },
    {
      "cell_type": "code",
      "metadata": {
        "colab": {
          "base_uri": "https://localhost:8080/"
        },
        "id": "_O_7TDRGLaQ1",
        "outputId": "87531a29-f022-44cf-fd12-b951634f4d55"
      },
      "source": [
        "colores"
      ],
      "execution_count": null,
      "outputs": [
        {
          "output_type": "execute_result",
          "data": {
            "text/plain": [
              "['azul', 'verde', 'naranja']"
            ]
          },
          "metadata": {
            "tags": []
          },
          "execution_count": 34
        }
      ]
    },
    {
      "cell_type": "code",
      "metadata": {
        "id": "zkSZEoiJLnVY"
      },
      "source": [
        "colores.clear()\n"
      ],
      "execution_count": null,
      "outputs": []
    },
    {
      "cell_type": "code",
      "metadata": {
        "colab": {
          "base_uri": "https://localhost:8080/"
        },
        "id": "KbNv9_z9LqCs",
        "outputId": "80be0d1c-3e13-4a43-8378-9d7087502122"
      },
      "source": [
        "colores"
      ],
      "execution_count": null,
      "outputs": [
        {
          "output_type": "execute_result",
          "data": {
            "text/plain": [
              "[]"
            ]
          },
          "metadata": {
            "tags": []
          },
          "execution_count": 37
        }
      ]
    },
    {
      "cell_type": "code",
      "metadata": {
        "colab": {
          "base_uri": "https://localhost:8080/"
        },
        "id": "wSesi4ykLs3O",
        "outputId": "19d593d2-30dc-4372-eb5e-d81635c688e3"
      },
      "source": [
        "#  Tuplas => Es una coleccion de elemntos ordenados pero que no se pueden alterar\n",
        "\n",
        "tupla_colores = (\"rojo\", \"verde\", \"amarillo\")\n",
        "tupla_colores"
      ],
      "execution_count": null,
      "outputs": [
        {
          "output_type": "execute_result",
          "data": {
            "text/plain": [
              "('rojo', 'verde', 'amarillo')"
            ]
          },
          "metadata": {
            "tags": []
          },
          "execution_count": 46
        }
      ]
    },
    {
      "cell_type": "code",
      "metadata": {
        "colab": {
          "base_uri": "https://localhost:8080/"
        },
        "id": "m4KRtjHrL_3R",
        "outputId": "c311a89d-6742-47f8-cd49-cce829008e03"
      },
      "source": [
        "for color in tupla_colores:\n",
        "    print(color)\n"
      ],
      "execution_count": null,
      "outputs": [
        {
          "output_type": "stream",
          "text": [
            "rojo\n",
            "verde\n",
            "amarillo\n"
          ],
          "name": "stdout"
        }
      ]
    },
    {
      "cell_type": "code",
      "metadata": {
        "colab": {
          "base_uri": "https://localhost:8080/"
        },
        "id": "JcORUKsrMKpn",
        "outputId": "ddb3e979-80cd-4025-c3f1-5cbc7a125744"
      },
      "source": [
        "# Conjuntos => Es una coleccion de elemntos pero que esta desordenado\n",
        "conjunto_colores = {\"rojo\", \"verde\", \"azul\"}\n",
        "conjunto_colores"
      ],
      "execution_count": null,
      "outputs": [
        {
          "output_type": "execute_result",
          "data": {
            "text/plain": [
              "{'azul', 'rojo', 'verde'}"
            ]
          },
          "metadata": {
            "tags": []
          },
          "execution_count": 42
        }
      ]
    },
    {
      "cell_type": "code",
      "metadata": {
        "colab": {
          "base_uri": "https://localhost:8080/"
        },
        "id": "oUgYg1_PMqjp",
        "outputId": "3ab5ab0f-6d02-455e-c06f-0b1736e52c01"
      },
      "source": [
        "for color in conjunto_colores:\n",
        "  print(color)"
      ],
      "execution_count": null,
      "outputs": [
        {
          "output_type": "stream",
          "text": [
            "azul\n",
            "verde\n",
            "rojo\n"
          ],
          "name": "stdout"
        }
      ]
    },
    {
      "cell_type": "code",
      "metadata": {
        "colab": {
          "base_uri": "https://localhost:8080/"
        },
        "id": "7-UF746dMyuj",
        "outputId": "eb645054-c88a-4a7e-f0a0-43778352167a"
      },
      "source": [
        "conjunto_colores.add(\"negro\")\n",
        "conjunto_colores"
      ],
      "execution_count": null,
      "outputs": [
        {
          "output_type": "execute_result",
          "data": {
            "text/plain": [
              "{'azul', 'negro', 'rojo', 'verde'}"
            ]
          },
          "metadata": {
            "tags": []
          },
          "execution_count": 47
        }
      ]
    },
    {
      "cell_type": "code",
      "metadata": {
        "id": "JxCj1XpiNudo"
      },
      "source": [
        "conjunto_colores.remove(\"verde\")"
      ],
      "execution_count": null,
      "outputs": []
    },
    {
      "cell_type": "code",
      "metadata": {
        "colab": {
          "base_uri": "https://localhost:8080/"
        },
        "id": "fidk6roANzL0",
        "outputId": "65742773-f885-4335-fe59-b26ee2290989"
      },
      "source": [
        "conjunto_colores"
      ],
      "execution_count": null,
      "outputs": [
        {
          "output_type": "execute_result",
          "data": {
            "text/plain": [
              "{'azul', 'negro', 'rojo'}"
            ]
          },
          "metadata": {
            "tags": []
          },
          "execution_count": 49
        }
      ]
    },
    {
      "cell_type": "code",
      "metadata": {
        "id": "i_GWHqG0N0_2",
        "colab": {
          "base_uri": "https://localhost:8080/",
          "height": 35
        },
        "outputId": "666417df-464e-4a6d-9c84-c84610feb51b"
      },
      "source": [
        "# Diccionario\n",
        "\n",
        "\"\"\" Es una coleccion de elementos, \n",
        "    esta indexados no estan ordenados\n",
        "    y se pueden unificar  \"\"\"\n",
        "\n",
        "diccionario_colores = {\"red\":\"rojo\", \"blue\":\"azul\", \"green\":\"verde\" }    \n",
        "diccionario_colores[\"blue\"]"
      ],
      "execution_count": null,
      "outputs": [
        {
          "output_type": "execute_result",
          "data": {
            "application/vnd.google.colaboratory.intrinsic+json": {
              "type": "string"
            },
            "text/plain": [
              "'azul'"
            ]
          },
          "metadata": {
            "tags": []
          },
          "execution_count": 16
        }
      ]
    },
    {
      "cell_type": "code",
      "metadata": {
        "colab": {
          "base_uri": "https://localhost:8080/"
        },
        "id": "bCmtK0K32WMa",
        "outputId": "ffe467d2-2c30-4341-bc37-590f9e8b1c87"
      },
      "source": [
        "diccionario_colores"
      ],
      "execution_count": null,
      "outputs": [
        {
          "output_type": "execute_result",
          "data": {
            "text/plain": [
              "{'blue': 'azul', 'green': 'verde', 'red': 'rojo'}"
            ]
          },
          "metadata": {
            "tags": []
          },
          "execution_count": 17
        }
      ]
    },
    {
      "cell_type": "code",
      "metadata": {
        "colab": {
          "base_uri": "https://localhost:8080/"
        },
        "id": "aOAv3uSU2elg",
        "outputId": "8a42d10c-82e9-4199-fc11-dda4cfc6a72d"
      },
      "source": [
        "# Para agregar elementos al diccionario \n",
        "diccionario_colores[\"black\"] = \"negro\"\n",
        "diccionario_colores"
      ],
      "execution_count": null,
      "outputs": [
        {
          "output_type": "execute_result",
          "data": {
            "text/plain": [
              "{'black': 'negro', 'blue': 'azul', 'green': 'verde', 'red': 'rojo'}"
            ]
          },
          "metadata": {
            "tags": []
          },
          "execution_count": 18
        }
      ]
    },
    {
      "cell_type": "code",
      "metadata": {
        "colab": {
          "base_uri": "https://localhost:8080/"
        },
        "id": "TSl9D5dA2mmz",
        "outputId": "5ab1ea3e-133c-4ccc-9f85-54b40afe3770"
      },
      "source": [
        "# Para agregar elementos al diccionario \n",
        "diccionario_colores[\"yellow\"] = \"amarillo\"\n",
        "diccionario_colores"
      ],
      "execution_count": null,
      "outputs": [
        {
          "output_type": "execute_result",
          "data": {
            "text/plain": [
              "{'black': 'negro',\n",
              " 'blue': 'azul',\n",
              " 'green': 'verde',\n",
              " 'red': 'rojo',\n",
              " 'yellow': 'amarillo'}"
            ]
          },
          "metadata": {
            "tags": []
          },
          "execution_count": 19
        }
      ]
    },
    {
      "cell_type": "code",
      "metadata": {
        "colab": {
          "base_uri": "https://localhost:8080/"
        },
        "id": "l8KQ9Wrv2zIt",
        "outputId": "477b18c1-56f8-4a29-8735-af7c8d05fcf7"
      },
      "source": [
        "# Para eliminar elementos del diccionario \n",
        "diccionario_colores.pop(\"yellow\")\n",
        "diccionario_colores"
      ],
      "execution_count": null,
      "outputs": [
        {
          "output_type": "execute_result",
          "data": {
            "text/plain": [
              "{'black': 'negro', 'blue': 'azul', 'green': 'verde', 'red': 'rojo'}"
            ]
          },
          "metadata": {
            "tags": []
          },
          "execution_count": 20
        }
      ]
    },
    {
      "cell_type": "code",
      "metadata": {
        "colab": {
          "base_uri": "https://localhost:8080/"
        },
        "id": "mhW3loB828zO",
        "outputId": "c9c768e1-41aa-489e-c9a2-958ccf039084"
      },
      "source": [
        "# Otra para eliminar elementos del diccionario \n",
        "del(diccionario_colores[\"red\"]) \n",
        "diccionario_colores"
      ],
      "execution_count": null,
      "outputs": [
        {
          "output_type": "execute_result",
          "data": {
            "text/plain": [
              "{'black': 'negro', 'blue': 'azul', 'green': 'verde'}"
            ]
          },
          "metadata": {
            "tags": []
          },
          "execution_count": 21
        }
      ]
    },
    {
      "cell_type": "code",
      "metadata": {
        "colab": {
          "base_uri": "https://localhost:8080/"
        },
        "id": "eDydiyja3v8h",
        "outputId": "3001c054-6b4b-4e71-ed1f-4096f582b306"
      },
      "source": [
        "# Para imprimir el diccionario de colores\n",
        "print(diccionario_colores)"
      ],
      "execution_count": null,
      "outputs": [
        {
          "output_type": "stream",
          "text": [
            "{'blue': 'azul', 'green': 'verde', 'black': 'negro'}\n"
          ],
          "name": "stdout"
        }
      ]
    },
    {
      "cell_type": "code",
      "metadata": {
        "colab": {
          "base_uri": "https://localhost:8080/"
        },
        "id": "Qes5K9ZC4c07",
        "outputId": "91090785-6058-42a2-861a-f25c9bdd279c"
      },
      "source": [
        "for color in diccionario_colores:\n",
        "  print(color)"
      ],
      "execution_count": null,
      "outputs": [
        {
          "output_type": "stream",
          "text": [
            "blue\n",
            "green\n",
            "black\n"
          ],
          "name": "stdout"
        }
      ]
    },
    {
      "cell_type": "code",
      "metadata": {
        "colab": {
          "base_uri": "https://localhost:8080/"
        },
        "id": "1CU4e8EH4hti",
        "outputId": "b80b0cd1-a7ec-4ac8-b2cc-eedbed6c3fbd"
      },
      "source": [
        "# si queremos imprimir su palabra clave y su valor o definicion\n",
        "for clave,valor in diccionario_colores.items():\n",
        "  print(clave,valor)"
      ],
      "execution_count": null,
      "outputs": [
        {
          "output_type": "stream",
          "text": [
            "blue azul\n",
            "green verde\n",
            "black negro\n"
          ],
          "name": "stdout"
        }
      ]
    },
    {
      "cell_type": "code",
      "metadata": {
        "colab": {
          "base_uri": "https://localhost:8080/"
        },
        "id": "6otr7L1T48Fq",
        "outputId": "d2791c13-cc22-4f35-cfff-d237789fcd96"
      },
      "source": [
        "# Ejercicio 1\n",
        "lista = [1,2,5,25,33,56,75,21,56,89,43,13,62,24]\n",
        "lista\n"
      ],
      "execution_count": null,
      "outputs": [
        {
          "output_type": "execute_result",
          "data": {
            "text/plain": [
              "[1, 2, 5, 25, 33, 56, 75, 21, 56, 89, 43, 13, 62, 24]"
            ]
          },
          "metadata": {
            "tags": []
          },
          "execution_count": 38
        }
      ]
    },
    {
      "cell_type": "code",
      "metadata": {
        "colab": {
          "base_uri": "https://localhost:8080/"
        },
        "id": "oiiLU9pa5jxV",
        "outputId": "10c2d852-1974-4438-9538-46510e8aad8d"
      },
      "source": [
        "x = 21\n",
        "if (x in lista):\n",
        "  print(\"yes\")\n",
        "else: \n",
        "  print(\"No\")\n"
      ],
      "execution_count": null,
      "outputs": [
        {
          "output_type": "stream",
          "text": [
            "yes\n"
          ],
          "name": "stdout"
        }
      ]
    },
    {
      "cell_type": "code",
      "metadata": {
        "colab": {
          "base_uri": "https://localhost:8080/"
        },
        "id": "WREEsFdL5zKs",
        "outputId": "1099ea7d-8445-4742-c191-bcbe74d3bb08"
      },
      "source": [
        "# Ejercicio 3\n",
        "# Crear Variable Tupla\n",
        "# Las tuplas siempre se definen con ()\n",
        "tupla = (\"Antonio\", \"Pedro\",\"Maria\")\n",
        "# Mostramos el valor\n",
        "tupla"
      ],
      "execution_count": null,
      "outputs": [
        {
          "output_type": "execute_result",
          "data": {
            "text/plain": [
              "('Antonio', 'Pedro', 'Maria')"
            ]
          },
          "metadata": {
            "tags": []
          },
          "execution_count": 46
        }
      ]
    },
    {
      "cell_type": "code",
      "metadata": {
        "colab": {
          "base_uri": "https://localhost:8080/"
        },
        "id": "NdFLx6297IeD",
        "outputId": "8a528415-23d1-491d-b2ee-0b2f2d27f4b6"
      },
      "source": [
        "# Recoger un dato por teclado\n",
        "dato = input()\n",
        "# Inicio de validación\n",
        "# Si dato esta dentro (\"Coincide\") de la tupla\n",
        "if (dato in tupla):\n",
        "  print(\"Si\")\n",
        "else:\n",
        "    print(\"No\")  "
      ],
      "execution_count": null,
      "outputs": [
        {
          "output_type": "stream",
          "text": [
            "Antonio\n",
            "Si\n"
          ],
          "name": "stdout"
        }
      ]
    },
    {
      "cell_type": "code",
      "metadata": {
        "colab": {
          "base_uri": "https://localhost:8080/"
        },
        "id": "xaWE3ICy7fqh",
        "outputId": "edc9cdbe-53f3-4f6c-b2f1-cf6786f01fdd"
      },
      "source": [
        "# Ejercicio 3\n",
        "# Crear variable conjunto\n",
        "# Siempre se diferencia por el tipo de llave con \n",
        "# la que se abre, en este caso ({...})\n",
        "conjunto = {1,2,3,4,5}\n",
        "# Imprimir variable\n",
        "conjunto "
      ],
      "execution_count": null,
      "outputs": [
        {
          "output_type": "execute_result",
          "data": {
            "text/plain": [
              "{1, 2, 3, 4, 5}"
            ]
          },
          "metadata": {
            "tags": []
          },
          "execution_count": 53
        }
      ]
    },
    {
      "cell_type": "code",
      "metadata": {
        "colab": {
          "base_uri": "https://localhost:8080/"
        },
        "id": "CIfvN4Hc9JLD",
        "outputId": "bbdec4d8-8902-44c7-b5f8-c5f11aa2688c"
      },
      "source": [
        "# Agregar valores del 6 al 9\n",
        "conjunto.add(6)\n",
        "conjunto.add(7)\n",
        "conjunto.add(8)\n",
        "conjunto.add(9)\n",
        "#  Imprimir conjunto\n",
        "conjunto"
      ],
      "execution_count": null,
      "outputs": [
        {
          "output_type": "execute_result",
          "data": {
            "text/plain": [
              "{1, 2, 3, 4, 5, 6, 7, 8, 9}"
            ]
          },
          "metadata": {
            "tags": []
          },
          "execution_count": 57
        }
      ]
    },
    {
      "cell_type": "code",
      "metadata": {
        "colab": {
          "base_uri": "https://localhost:8080/"
        },
        "id": "GW0BD1jY9Weu",
        "outputId": "2515773b-fd00-4abc-d10a-612343f73984"
      },
      "source": [
        "# Eliminar el numero 9\n",
        "conjunto.remove(9)\n",
        "# Imprimir conjunto\n",
        "conjunto"
      ],
      "execution_count": null,
      "outputs": [
        {
          "output_type": "execute_result",
          "data": {
            "text/plain": [
              "{1, 2, 3, 4, 5, 6, 7, 8}"
            ]
          },
          "metadata": {
            "tags": []
          },
          "execution_count": 58
        }
      ]
    },
    {
      "cell_type": "code",
      "metadata": {
        "colab": {
          "base_uri": "https://localhost:8080/"
        },
        "id": "1G1I7RrV-QHB",
        "outputId": "da23bf17-644b-4d5e-a971-0ec2adb0156a"
      },
      "source": [
        "# Ver tipo de dato de la variable conjunto\n",
        "type(conjunto)"
      ],
      "execution_count": null,
      "outputs": [
        {
          "output_type": "execute_result",
          "data": {
            "text/plain": [
              "set"
            ]
          },
          "metadata": {
            "tags": []
          },
          "execution_count": 63
        }
      ]
    },
    {
      "cell_type": "code",
      "metadata": {
        "colab": {
          "base_uri": "https://localhost:8080/"
        },
        "id": "9V6po2cZ-TQ0",
        "outputId": "f0cb53b9-e68f-4ac9-9c45-0431fb33b328"
      },
      "source": [
        "# ejercicio 4\n",
        "# Creacion de variable diccionario \n",
        "diccionario = {\"uno\":\"one\", \"dos\":\"two\", \"tres\":\"three\"}\n",
        "diccionario"
      ],
      "execution_count": null,
      "outputs": [
        {
          "output_type": "execute_result",
          "data": {
            "text/plain": [
              "{'dos': 'two', 'tres': 'three', 'uno': 'one'}"
            ]
          },
          "metadata": {
            "tags": []
          },
          "execution_count": 64
        }
      ]
    },
    {
      "cell_type": "code",
      "metadata": {
        "colab": {
          "base_uri": "https://localhost:8080/"
        },
        "id": "D74C7nh5AtrX",
        "outputId": "52b93454-d4ba-432a-c986-52d800a8a058"
      },
      "source": [
        "# Agregar dato al diccionario\n",
        "diccionario[\"cuatro\"] = \"four\"\n",
        "diccionario"
      ],
      "execution_count": null,
      "outputs": [
        {
          "output_type": "execute_result",
          "data": {
            "text/plain": [
              "{'cuatro': 'four', 'dos': 'two', 'tres': 'three', 'uno': 'one'}"
            ]
          },
          "metadata": {
            "tags": []
          },
          "execution_count": 65
        }
      ]
    },
    {
      "cell_type": "code",
      "metadata": {
        "colab": {
          "base_uri": "https://localhost:8080/",
          "height": 51
        },
        "id": "N906dM-qBFqv",
        "outputId": "cf5d2944-53a7-4979-d8be-9e226cf23aff"
      },
      "source": [
        "# Capturar por teclado un dato\n",
        "dato = input()\n",
        "valor = diccionario[dato]\n",
        "valor\n"
      ],
      "execution_count": null,
      "outputs": [
        {
          "output_type": "stream",
          "text": [
            "cuatro\n"
          ],
          "name": "stdout"
        },
        {
          "output_type": "execute_result",
          "data": {
            "application/vnd.google.colaboratory.intrinsic+json": {
              "type": "string"
            },
            "text/plain": [
              "'four'"
            ]
          },
          "metadata": {
            "tags": []
          },
          "execution_count": 66
        }
      ]
    },
    {
      "cell_type": "code",
      "metadata": {
        "colab": {
          "base_uri": "https://localhost:8080/"
        },
        "id": "nj0e1p_9B0WW",
        "outputId": "fdf4a486-a8ce-49b0-c911-35001b09f7c3"
      },
      "source": [
        "# Condiciones (if, elif, else)\n",
        "a = 8\n",
        "b = 4\n",
        "\n",
        "a > b"
      ],
      "execution_count": null,
      "outputs": [
        {
          "output_type": "execute_result",
          "data": {
            "text/plain": [
              "True"
            ]
          },
          "metadata": {
            "tags": []
          },
          "execution_count": 86
        }
      ]
    },
    {
      "cell_type": "code",
      "metadata": {
        "colab": {
          "base_uri": "https://localhost:8080/"
        },
        "id": "vuyveWB2JIVd",
        "outputId": "83ee1eec-ca9b-4fc0-df35-db02859152b8"
      },
      "source": [
        "a < b"
      ],
      "execution_count": null,
      "outputs": [
        {
          "output_type": "execute_result",
          "data": {
            "text/plain": [
              "False"
            ]
          },
          "metadata": {
            "tags": []
          },
          "execution_count": 77
        }
      ]
    },
    {
      "cell_type": "code",
      "metadata": {
        "colab": {
          "base_uri": "https://localhost:8080/"
        },
        "id": "SpYnB7gbJLoX",
        "outputId": "741718b6-2955-4ab0-9487-fce8a0e7d612"
      },
      "source": [
        "if (a > b): \n",
        "  print(\"A es mayor que b\")"
      ],
      "execution_count": null,
      "outputs": [
        {
          "output_type": "stream",
          "text": [
            "A es mayor que b\n"
          ],
          "name": "stdout"
        }
      ]
    },
    {
      "cell_type": "code",
      "metadata": {
        "id": "QBvot9amJTBZ",
        "colab": {
          "base_uri": "https://localhost:8080/"
        },
        "outputId": "29d2692f-6892-4220-ca1d-e3b73904c550"
      },
      "source": [
        "if (a < b): \n",
        "  print(\"B es mayor que A\")"
      ],
      "execution_count": null,
      "outputs": [
        {
          "output_type": "stream",
          "text": [
            "A es mayor que ve\n"
          ],
          "name": "stdout"
        }
      ]
    },
    {
      "cell_type": "code",
      "metadata": {
        "colab": {
          "base_uri": "https://localhost:8080/"
        },
        "id": "USf2_zoFJZK4",
        "outputId": "b90a47d1-b746-449d-b19c-79e8d05c9ff7"
      },
      "source": [
        "c = 2\n",
        "d = 6\n",
        "\n",
        "if (a > c) and (b < d):\n",
        "  print(\"La primera expresion es correcta\")"
      ],
      "execution_count": null,
      "outputs": [
        {
          "output_type": "stream",
          "text": [
            "La primera expresion es correcta\n"
          ],
          "name": "stdout"
        }
      ]
    },
    {
      "cell_type": "code",
      "metadata": {
        "colab": {
          "base_uri": "https://localhost:8080/"
        },
        "id": "xAa_nixTJxg5",
        "outputId": "cddbb87c-7cc1-411a-9c40-e30facb377f9"
      },
      "source": [
        "if (a > c) and (b > d):\n",
        "  print(\"La primera expresion es correcta\")\n",
        "else: \n",
        "  print(\"La primera condicion no es correcta\")"
      ],
      "execution_count": null,
      "outputs": [
        {
          "output_type": "stream",
          "text": [
            "La primera condicion no es correcta\n"
          ],
          "name": "stdout"
        }
      ]
    },
    {
      "cell_type": "code",
      "metadata": {
        "colab": {
          "base_uri": "https://localhost:8080/"
        },
        "id": "7I4wDy0pKFFA",
        "outputId": "0e7d8f39-4fb3-4ff0-f6b7-161b5750a169"
      },
      "source": [
        "a = 4\n",
        "b = 8\n",
        "if (a > b):\n",
        "  print(\"a es mayor que b\")\n",
        "elif ( a == b ):\n",
        "  print(\"ambas son iguales\")\n",
        "else:\n",
        "  print(\"b es mayor que a\")  \n"
      ],
      "execution_count": null,
      "outputs": [
        {
          "output_type": "stream",
          "text": [
            "b es mayor que a\n"
          ],
          "name": "stdout"
        }
      ]
    },
    {
      "cell_type": "code",
      "metadata": {
        "colab": {
          "base_uri": "https://localhost:8080/"
        },
        "id": "6KAoW4zYK6H8",
        "outputId": "595aea7b-6398-432e-8fd7-431b38ce32df"
      },
      "source": [
        "# Bucle for\n",
        "colores = [\"rojo\", \"verde\", \"azul\"] # Vector\n",
        "colores"
      ],
      "execution_count": null,
      "outputs": [
        {
          "output_type": "execute_result",
          "data": {
            "text/plain": [
              "['rojo', 'verde', 'azul']"
            ]
          },
          "metadata": {
            "tags": []
          },
          "execution_count": 10
        }
      ]
    },
    {
      "cell_type": "code",
      "metadata": {
        "id": "J7l_wUQcKq-y"
      },
      "source": [
        "while color != colores:\n",
        "    print(color)\n",
        "    color +=1"
      ],
      "execution_count": null,
      "outputs": []
    },
    {
      "cell_type": "code",
      "metadata": {
        "colab": {
          "base_uri": "https://localhost:8080/"
        },
        "id": "NT9LqBeuKycf",
        "outputId": "22626f4d-3ac6-4192-d4cb-6e2baea28a9c"
      },
      "source": [
        "for color in colores:\n",
        "  print(color)\n"
      ],
      "execution_count": null,
      "outputs": [
        {
          "output_type": "stream",
          "text": [
            "rojo\n",
            "verde\n",
            "azul\n"
          ],
          "name": "stdout"
        }
      ]
    },
    {
      "cell_type": "code",
      "metadata": {
        "colab": {
          "base_uri": "https://localhost:8080/"
        },
        "id": "_dIwrYGvLTlp",
        "outputId": "788f428f-b8d6-46bf-dc1f-cc2070df41af"
      },
      "source": [
        "cadena = \"Hola mundo!\"\n",
        "for caracteres in cadena:\n",
        "  print(caracteres)"
      ],
      "execution_count": null,
      "outputs": [
        {
          "output_type": "stream",
          "text": [
            "H\n",
            "o\n",
            "l\n",
            "a\n",
            " \n",
            "m\n",
            "u\n",
            "n\n",
            "d\n",
            "o\n",
            "!\n"
          ],
          "name": "stdout"
        }
      ]
    },
    {
      "cell_type": "code",
      "metadata": {
        "colab": {
          "base_uri": "https://localhost:8080/"
        },
        "id": "EPZFwtTALmuz",
        "outputId": "ec3ea610-0cf4-4105-f21b-6eecbd526158"
      },
      "source": [
        "range(8)\n",
        "range"
      ],
      "execution_count": null,
      "outputs": [
        {
          "output_type": "execute_result",
          "data": {
            "text/plain": [
              "range"
            ]
          },
          "metadata": {
            "tags": []
          },
          "execution_count": 86
        }
      ]
    },
    {
      "cell_type": "code",
      "metadata": {
        "id": "YoIlJRdBL0ev"
      },
      "source": [
        "for numero in range(8+1):\n",
        "  print(numero)"
      ],
      "execution_count": null,
      "outputs": []
    },
    {
      "cell_type": "code",
      "metadata": {
        "id": "Snc0YXNVL3O4"
      },
      "source": [
        "for numero in range(3,8,2):\n",
        "  print(numero)"
      ],
      "execution_count": null,
      "outputs": []
    },
    {
      "cell_type": "code",
      "metadata": {
        "id": "-X2q0_u4MbAB"
      },
      "source": [
        "for numero in range(10):\n",
        "  if (numero == 5):\n",
        "    break\n",
        "  print(numero)"
      ],
      "execution_count": null,
      "outputs": []
    },
    {
      "cell_type": "code",
      "metadata": {
        "id": "JwZK0QHANR9Z",
        "colab": {
          "base_uri": "https://localhost:8080/"
        },
        "outputId": "581f9112-476c-499f-fe9a-11be6a3d5405"
      },
      "source": [
        "for numero in range(10):\n",
        "  if (numero == 6):\n",
        "    continue\n",
        "  print(numero)    "
      ],
      "execution_count": null,
      "outputs": [
        {
          "output_type": "stream",
          "text": [
            "0\n",
            "1\n",
            "2\n",
            "3\n",
            "4\n",
            "5\n",
            "7\n",
            "8\n",
            "9\n"
          ],
          "name": "stdout"
        }
      ]
    },
    {
      "cell_type": "code",
      "metadata": {
        "id": "7GwxPgk9NikR",
        "colab": {
          "base_uri": "https://localhost:8080/"
        },
        "outputId": "8fce1f2f-17f2-4b05-865d-e59b3ae66b1b"
      },
      "source": [
        "# bucle for Doble\n",
        "# Por cada numero en un rango del 0 al 3 \n",
        "# Ejecutara el for de numero2\n",
        "for numero1 in range(4):\n",
        "  for numero2 in range(3):\n",
        "    print(numero1, numero2)"
      ],
      "execution_count": null,
      "outputs": [
        {
          "output_type": "stream",
          "text": [
            "0 0\n",
            "0 1\n",
            "0 2\n",
            "1 0\n",
            "1 1\n",
            "1 2\n",
            "2 0\n",
            "2 1\n",
            "2 2\n",
            "3 0\n",
            "3 1\n",
            "3 2\n"
          ],
          "name": "stdout"
        }
      ]
    },
    {
      "cell_type": "code",
      "metadata": {
        "colab": {
          "base_uri": "https://localhost:8080/"
        },
        "id": "Mf41noDZN2cT",
        "outputId": "6ac158bc-99a6-4558-a9ad-3ab5061988e0"
      },
      "source": [
        "# Bucle while\n",
        "valor = 1\n",
        "fin = 10\n",
        "while (valor < fin):\n",
        "    print(valor)\n",
        "    valor +=1"
      ],
      "execution_count": null,
      "outputs": [
        {
          "output_type": "stream",
          "text": [
            "1\n",
            "2\n",
            "3\n",
            "4\n",
            "5\n",
            "6\n",
            "7\n",
            "8\n",
            "9\n",
            "10\n",
            "11\n"
          ],
          "name": "stdout"
        }
      ]
    },
    {
      "cell_type": "code",
      "metadata": {
        "colab": {
          "base_uri": "https://localhost:8080/"
        },
        "id": "zxSt_C4sOvjI",
        "outputId": "09ae03bc-3d78-41ce-b6d2-d4d8f8ba78ef"
      },
      "source": [
        "# Ejercicio 1\n",
        "diccionario = {\"manzana\":\"apple\", \"naranja\":\"orange\", \"platano\":\"banana\", \"limon\":\"lemon\"}\n",
        "diccionario "
      ],
      "execution_count": null,
      "outputs": [
        {
          "output_type": "execute_result",
          "data": {
            "text/plain": [
              "{'limon': 'lemon',\n",
              " 'manzana': 'apple',\n",
              " 'naranja': 'orange',\n",
              " 'platano': 'banana'}"
            ]
          },
          "metadata": {
            "tags": []
          },
          "execution_count": 39
        }
      ]
    },
    {
      "cell_type": "code",
      "metadata": {
        "colab": {
          "base_uri": "https://localhost:8080/",
          "height": 35
        },
        "id": "ksRerp2oRt_z",
        "outputId": "eb9136dd-7ce9-446e-826b-de0c2edef799"
      },
      "source": [
        "diccionario[\"naranja\"]"
      ],
      "execution_count": null,
      "outputs": [
        {
          "output_type": "execute_result",
          "data": {
            "application/vnd.google.colaboratory.intrinsic+json": {
              "type": "string"
            },
            "text/plain": [
              "'orange'"
            ]
          },
          "metadata": {
            "tags": []
          },
          "execution_count": 105
        }
      ]
    },
    {
      "cell_type": "code",
      "metadata": {
        "colab": {
          "base_uri": "https://localhost:8080/"
        },
        "id": "hG717ir8R7oQ",
        "outputId": "ebf3f7f0-341b-4b9e-acbb-3f32725903ca"
      },
      "source": [
        "diccionario[\"piña\"] = \"pineapple\"\n",
        "diccionario"
      ],
      "execution_count": null,
      "outputs": [
        {
          "output_type": "execute_result",
          "data": {
            "text/plain": [
              "{'limon': 'lemon',\n",
              " 'manzana': 'apple',\n",
              " 'naranja': 'orange',\n",
              " 'piña': 'pineapple',\n",
              " 'platano': 'banana'}"
            ]
          },
          "metadata": {
            "tags": []
          },
          "execution_count": 106
        }
      ]
    },
    {
      "cell_type": "code",
      "metadata": {
        "colab": {
          "base_uri": "https://localhost:8080/"
        },
        "id": "2Uvu5lpNSG0Q",
        "outputId": "8652f094-ce9f-4a48-df74-cdda8b9e889c"
      },
      "source": [
        "for clave,valor in diccionario.items():\n",
        "    print(f\"{clave}, En ingles es {valor}\")"
      ],
      "execution_count": null,
      "outputs": [
        {
          "output_type": "stream",
          "text": [
            "manzana, En ingles es apple\n",
            "naranja, En ingles es orange\n",
            "platano, En ingles es banana\n",
            "limon, En ingles es lemon\n",
            "piña, En ingles es pineapple\n"
          ],
          "name": "stdout"
        }
      ]
    },
    {
      "cell_type": "code",
      "metadata": {
        "colab": {
          "base_uri": "https://localhost:8080/",
          "height": 35
        },
        "id": "pNWKEM98SQDJ",
        "outputId": "c8f2d21b-5a1f-42f6-e164-ae3900a54660"
      },
      "source": [
        " # Ejercicio 2\n",
        "# Crear variable nota con valor a 4.5\n",
        "nota = 4.5\n",
        "#  Crear variable trabajo_realizado con valor SI\n",
        "trabajo_realizado = \"SI\" \n",
        "\n",
        "if (nota >= 4) and (trabajo_realizado == \"SI\"):\n",
        "    nota_final = \"Aprobado\"\n",
        "else:\n",
        "    nota_final = \"Suspenso\"\n",
        "\n",
        "nota_final"
      ],
      "execution_count": null,
      "outputs": [
        {
          "output_type": "execute_result",
          "data": {
            "application/vnd.google.colaboratory.intrinsic+json": {
              "type": "string"
            },
            "text/plain": [
              "'Aprobado'"
            ]
          },
          "metadata": {
            "tags": []
          },
          "execution_count": 121
        }
      ]
    },
    {
      "cell_type": "code",
      "metadata": {
        "colab": {
          "base_uri": "https://localhost:8080/"
        },
        "id": "7yJHwMdpU-id",
        "outputId": "eb21c72b-86f4-4807-da77-d77824a4e222"
      },
      "source": [
        "# Ejercicio 3\n",
        "#  Crear variable Inicio\n",
        "inicio = 1\n",
        "# Crear variable fin\n",
        "fin = 6\n",
        "while (inicio < fin):\n",
        "  print(\"Esta es una fila \", str(inicio))\n",
        "  #inicio +=1 \n",
        "  inicio = inicio + 1"
      ],
      "execution_count": null,
      "outputs": [
        {
          "output_type": "stream",
          "text": [
            "Esta es una fila  1\n",
            "Esta es una fila  2\n",
            "Esta es una fila  3\n",
            "Esta es una fila  4\n",
            "Esta es una fila  5\n"
          ],
          "name": "stdout"
        }
      ]
    },
    {
      "cell_type": "markdown",
      "metadata": {
        "id": "H3YuEOJnzSgb"
      },
      "source": [
        "# Clases & Objetos"
      ]
    },
    {
      "cell_type": "code",
      "metadata": {
        "id": "b0pemLD9Wp33"
      },
      "source": [
        "##################################################\n",
        "##  Clases y Objetos. Prog Orientada a Objetos  ##\n",
        "##################################################\n",
        "# Declaración de Clase\n",
        "class Clasesilla:\n",
        "  color = \"negra\"\n",
        "  precio = 150\n"
      ],
      "execution_count": null,
      "outputs": []
    },
    {
      "cell_type": "code",
      "metadata": {
        "colab": {
          "base_uri": "https://localhost:8080/",
          "height": 35
        },
        "id": "0fDaQ-H7dVJn",
        "outputId": "cdd2408c-b42b-4e67-9000-d76075385293"
      },
      "source": [
        "objSilla = Clasesilla()\n",
        "objSilla.color"
      ],
      "execution_count": null,
      "outputs": [
        {
          "output_type": "execute_result",
          "data": {
            "application/vnd.google.colaboratory.intrinsic+json": {
              "type": "string"
            },
            "text/plain": [
              "'negra'"
            ]
          },
          "metadata": {
            "tags": []
          },
          "execution_count": 128
        }
      ]
    },
    {
      "cell_type": "code",
      "metadata": {
        "colab": {
          "base_uri": "https://localhost:8080/"
        },
        "id": "uxdX_B_PddfN",
        "outputId": "bcbcc684-7c1b-4010-804f-2e5bf8eeca4d"
      },
      "source": [
        "objSilla.precio"
      ],
      "execution_count": null,
      "outputs": [
        {
          "output_type": "execute_result",
          "data": {
            "text/plain": [
              "15"
            ]
          },
          "metadata": {
            "tags": []
          },
          "execution_count": 129
        }
      ]
    },
    {
      "cell_type": "code",
      "metadata": {
        "colab": {
          "base_uri": "https://localhost:8080/",
          "height": 35
        },
        "id": "bNrgAsAReHiu",
        "outputId": "add43926-72c0-49da-9d69-d4c66cbb14dc"
      },
      "source": [
        "objSilla2 = Clasesilla()\n",
        "objSilla2.color = \"verde\"\n",
        "objSilla2.precio = 130\n",
        "objSilla2.color"
      ],
      "execution_count": null,
      "outputs": [
        {
          "output_type": "execute_result",
          "data": {
            "application/vnd.google.colaboratory.intrinsic+json": {
              "type": "string"
            },
            "text/plain": [
              "'verde'"
            ]
          },
          "metadata": {
            "tags": []
          },
          "execution_count": 131
        }
      ]
    },
    {
      "cell_type": "code",
      "metadata": {
        "colab": {
          "base_uri": "https://localhost:8080/"
        },
        "id": "KIvpoUzqe3-a",
        "outputId": "68f36613-66b1-4980-f8c3-e29f37cc8719"
      },
      "source": [
        "objSilla2.precio"
      ],
      "execution_count": null,
      "outputs": [
        {
          "output_type": "execute_result",
          "data": {
            "text/plain": [
              "130"
            ]
          },
          "metadata": {
            "tags": []
          },
          "execution_count": 132
        }
      ]
    },
    {
      "cell_type": "markdown",
      "metadata": {
        "id": "5ZiYJGXazZ2O"
      },
      "source": [
        "# Clase Persona"
      ]
    },
    {
      "cell_type": "code",
      "metadata": {
        "id": "V9dBuyt3e5-l"
      },
      "source": [
        "class Persona:\n",
        "  def __init__(self,nombre,edad):\n",
        "      self.nombre = nombre\n",
        "      self.edad = edad\n",
        "\n",
        "  def saludar(self):\n",
        "    print(f\"Hola, me llamo {self.nombre}, y tengo {self.edad} años\")      "
      ],
      "execution_count": null,
      "outputs": []
    },
    {
      "cell_type": "code",
      "metadata": {
        "colab": {
          "base_uri": "https://localhost:8080/"
        },
        "id": "at7l3OVBgC7i",
        "outputId": "31f77217-9a8d-406a-a13c-e71fcdbb821e"
      },
      "source": [
        "persona1 = Persona(\"Donald\", 26)\n",
        "persona1.nombre\n",
        "persona1.saludar()"
      ],
      "execution_count": null,
      "outputs": [
        {
          "output_type": "stream",
          "text": [
            "Hola, me llamo Donald, y tengo 26 años\n"
          ],
          "name": "stdout"
        }
      ]
    },
    {
      "cell_type": "markdown",
      "metadata": {
        "id": "Xwdpk5LwzOUJ"
      },
      "source": [
        "## Funciones"
      ]
    },
    {
      "cell_type": "code",
      "metadata": {
        "colab": {
          "base_uri": "https://localhost:8080/"
        },
        "id": "tKXNmHxOmJnt",
        "outputId": "1a5ec29d-5d1b-41b6-c9d6-48c14d706d40"
      },
      "source": [
        "# Para definir una funcion usamos\n",
        "def saludar():\n",
        "    print(\"Buenos días\")\n",
        "\n",
        "saludar()"
      ],
      "execution_count": null,
      "outputs": [
        {
          "output_type": "stream",
          "text": [
            "Buenos días\n"
          ],
          "name": "stdout"
        }
      ]
    },
    {
      "cell_type": "code",
      "metadata": {
        "colab": {
          "base_uri": "https://localhost:8080/"
        },
        "id": "-buGwXdLgRE4",
        "outputId": "cda42a04-0d99-4928-be8f-fcd17647c100"
      },
      "source": [
        "def saludar(nombre):\n",
        "  print(f\"Buenos días {nombre}\")\n",
        "\n",
        "nombre = \"Donald\"\n",
        "\n",
        "saludar(nombre)"
      ],
      "execution_count": null,
      "outputs": [
        {
          "output_type": "stream",
          "text": [
            "Buenos días Donald\n"
          ],
          "name": "stdout"
        }
      ]
    },
    {
      "cell_type": "code",
      "metadata": {
        "id": "PihJlkH2nYgV"
      },
      "source": [
        "def sumar(num1, num2):\n",
        "    suma = num1 + num2\n",
        "    return suma"
      ],
      "execution_count": null,
      "outputs": []
    },
    {
      "cell_type": "code",
      "metadata": {
        "id": "LBJldBPXnlDE"
      },
      "source": [
        "num1 = 5\n",
        "num2 = 3\n",
        "resultado = sumar(num1,num2)"
      ],
      "execution_count": null,
      "outputs": []
    },
    {
      "cell_type": "code",
      "metadata": {
        "colab": {
          "base_uri": "https://localhost:8080/"
        },
        "id": "CAC2PDf_nz-V",
        "outputId": "4e912b57-e80c-4971-ce23-21e9b9ba6735"
      },
      "source": [
        "resultado"
      ],
      "execution_count": null,
      "outputs": [
        {
          "output_type": "execute_result",
          "data": {
            "text/plain": [
              "8"
            ]
          },
          "metadata": {
            "tags": []
          },
          "execution_count": 155
        }
      ]
    },
    {
      "cell_type": "code",
      "metadata": {
        "id": "RNeaQlH_n5NM"
      },
      "source": [
        "# Paso de valor por referencia\n",
        "# Definir Lista de colores\n",
        "colores = [\"rojo\", \"verde\", \"azul\"]\n",
        "# Definir funcion para incluir un color\n",
        "def incluir_color(colores,color):\n",
        "# Vamos a agregar en la lista de colores\n",
        "# un nuevo color\n",
        "  colores.append(color)\n"
      ],
      "execution_count": null,
      "outputs": []
    },
    {
      "cell_type": "code",
      "metadata": {
        "id": "F0vuP-Rjoa32"
      },
      "source": [
        "# Aqui estara el nuevo color a agregar\n",
        "color = \"Negro\"\n",
        "# llamamos la funcion incluir colores agregando los parametros requeridos\n",
        "incluir_color(colores,color)"
      ],
      "execution_count": null,
      "outputs": []
    },
    {
      "cell_type": "code",
      "metadata": {
        "colab": {
          "base_uri": "https://localhost:8080/"
        },
        "id": "RS0lSKTjojg4",
        "outputId": "fc0374d5-97ee-4c52-bde9-fba129efcb8e"
      },
      "source": [
        "#mostramos nuevamente la lista de colores\n",
        "colores"
      ],
      "execution_count": null,
      "outputs": [
        {
          "output_type": "execute_result",
          "data": {
            "text/plain": [
              "['rojo', 'verde', 'azul', 'Negro']"
            ]
          },
          "metadata": {
            "tags": []
          },
          "execution_count": 158
        }
      ]
    },
    {
      "cell_type": "markdown",
      "metadata": {
        "id": "QhSLk4YszIaS"
      },
      "source": [
        "#   Funcion lambda"
      ]
    },
    {
      "cell_type": "code",
      "metadata": {
        "id": "rWp3ZCY2oluJ"
      },
      "source": [
        "#   Es una funcion pequeña y anonima\n",
        "lambda numero:numero + 30"
      ],
      "execution_count": null,
      "outputs": []
    },
    {
      "cell_type": "markdown",
      "metadata": {
        "id": "2F8itXlthXON"
      },
      "source": [
        "# try ... except ... else ... finally"
      ]
    },
    {
      "cell_type": "code",
      "metadata": {
        "colab": {
          "base_uri": "https://localhost:8080/",
          "height": 219
        },
        "id": "vkSrnXeo_Us4",
        "outputId": "e747ba63-4e26-4f80-9945-3c52057259e5"
      },
      "source": [
        "# Si tratamos de hacer una vidision por 0\n",
        "num1 = 5\n",
        "num2 = 0\n",
        "division = num1 / num2\n",
        "# lo mas seguro es que no aparezca un error en el codigo"
      ],
      "execution_count": 6,
      "outputs": [
        {
          "output_type": "error",
          "ename": "ZeroDivisionError",
          "evalue": "ignored",
          "traceback": [
            "\u001b[0;31m---------------------------------------------------------------------------\u001b[0m",
            "\u001b[0;31mZeroDivisionError\u001b[0m                         Traceback (most recent call last)",
            "\u001b[0;32m<ipython-input-6-c2d33f6cc283>\u001b[0m in \u001b[0;36m<module>\u001b[0;34m()\u001b[0m\n\u001b[1;32m      2\u001b[0m \u001b[0mnum1\u001b[0m \u001b[0;34m=\u001b[0m \u001b[0;36m5\u001b[0m\u001b[0;34m\u001b[0m\u001b[0;34m\u001b[0m\u001b[0m\n\u001b[1;32m      3\u001b[0m \u001b[0mnum2\u001b[0m \u001b[0;34m=\u001b[0m \u001b[0;36m0\u001b[0m\u001b[0;34m\u001b[0m\u001b[0;34m\u001b[0m\u001b[0m\n\u001b[0;32m----> 4\u001b[0;31m \u001b[0mdivision\u001b[0m \u001b[0;34m=\u001b[0m \u001b[0mnum1\u001b[0m \u001b[0;34m/\u001b[0m \u001b[0mnum2\u001b[0m\u001b[0;34m\u001b[0m\u001b[0;34m\u001b[0m\u001b[0m\n\u001b[0m\u001b[1;32m      5\u001b[0m \u001b[0;31m# lo mas seguro es que no aparezca un error en el codigo\u001b[0m\u001b[0;34m\u001b[0m\u001b[0;34m\u001b[0m\u001b[0;34m\u001b[0m\u001b[0m\n",
            "\u001b[0;31mZeroDivisionError\u001b[0m: division by zero"
          ]
        }
      ]
    },
    {
      "cell_type": "code",
      "metadata": {
        "colab": {
          "base_uri": "https://localhost:8080/"
        },
        "id": "RygkK4Ekh1qd",
        "outputId": "bd9e94ed-6bbf-4d0e-f608-1f137107e052"
      },
      "source": [
        "# Usando el manejo de excepciones esto se puede corregir\n",
        "try:\n",
        "  num1 = 5\n",
        "  num2 = 0\n",
        "  division =  num1 / num2\n",
        "  print(division)\n",
        "except:\n",
        "  print(\"Ha habído un error\") \n",
        " "
      ],
      "execution_count": 8,
      "outputs": [
        {
          "output_type": "stream",
          "text": [
            "Ha habído un error\n"
          ],
          "name": "stdout"
        }
      ]
    },
    {
      "cell_type": "code",
      "metadata": {
        "colab": {
          "base_uri": "https://localhost:8080/"
        },
        "id": "SjHaoBTKiviT",
        "outputId": "302e03b5-9d5d-4d00-cedb-9cb821f7d426"
      },
      "source": [
        "# Otra forma de optimizar el codigo anterior es capturando el error \n",
        "# que se quiere mostrar en un formato humano\n",
        "try:\n",
        "  num1 = 5\n",
        "  num2 = 3\n",
        "  division =  num1 / num2\n",
        "  print(division)\n",
        "except ZeroDivisionError:\n",
        "  print(\"Error division entre cero\")\n",
        "except:\n",
        "  print(\"Ha habído un error\") "
      ],
      "execution_count": 13,
      "outputs": [
        {
          "output_type": "stream",
          "text": [
            "1.6666666666666667\n",
            "Espero que esta humilde calculadora sea de su puto agrado\n"
          ],
          "name": "stdout"
        }
      ]
    },
    {
      "cell_type": "markdown",
      "metadata": {
        "id": "Cu0Xaz4xzB2R"
      },
      "source": [
        "# else"
      ]
    },
    {
      "cell_type": "code",
      "metadata": {
        "id": "iDh5R3OZjg2M"
      },
      "source": [
        "try:\n",
        "  num1 = 5\n",
        "  num2 = 3\n",
        "  division =  num1 / num2\n",
        "  print(division)\n",
        "except ZeroDivisionError:\n",
        "  print(\"Error division entre cero\")\n",
        "except:\n",
        "  print(\"Ha habído un error\")\n",
        "else:\n",
        "  print(\"Espero que esta humilde calculadora sea de su puto agrado\")   "
      ],
      "execution_count": null,
      "outputs": []
    },
    {
      "cell_type": "markdown",
      "metadata": {
        "id": "zwG_Au8By_X4"
      },
      "source": [
        "# finally\n"
      ]
    },
    {
      "cell_type": "code",
      "metadata": {
        "colab": {
          "base_uri": "https://localhost:8080/"
        },
        "id": "udEqFS3Xkavh",
        "outputId": "a45926ed-17d5-4327-dbb2-fac11d48750d"
      },
      "source": [
        "try:\n",
        "  num1 = 5\n",
        "  num2 = 0\n",
        "  division =  num1 / num2\n",
        "  print(division)\n",
        "except ZeroDivisionError:\n",
        "  print(\"Error division entre cero\")\n",
        "except:\n",
        "  print(\"Ha habído un error\")\n",
        "else:\n",
        "  print(\"Espero que esta humilde calculadora sea de su puto agrado\")   \n",
        "finally:\n",
        "  print(\"Esta prueba de try ... except ... else ... finally, a acabado\")"
      ],
      "execution_count": 31,
      "outputs": [
        {
          "output_type": "stream",
          "text": [
            "Error division entre cero\n",
            "Por favor vuelva a ingresar los valores numericos\n",
            "Por favor Ingrese un valor para el numero 1\n",
            "6\n",
            "Por favor Ingrese un valor para el numero 2\n",
            "2\n",
            "2.5\n",
            "Esta prueba de try ... except ... else ... finally, a acabado\n"
          ],
          "name": "stdout"
        }
      ]
    },
    {
      "cell_type": "code",
      "metadata": {
        "colab": {
          "base_uri": "https://localhost:8080/"
        },
        "id": "FIUsxvmZk9RC",
        "outputId": "40756fdd-a00d-4817-c98d-caa1f734b84a"
      },
      "source": [
        "def operacion(num1, num2, num3):\n",
        "  num1 = num1 / (num2 - num3)\n",
        "  return num1\n",
        "try:\n",
        "  print(operacion(5,4,2))\n",
        "  print(operacion(6,3,3))\n",
        "except ZeroDivisionError:\n",
        "  print(\"Erro, los dos ultimos numeros deben ser diferentes\")\n",
        "except:\n",
        "  print(\"Parece el lo que tratas de dividir no son numeros\")  \n",
        "finally:\n",
        "  print(\"\\nAdios, regresa pronto...\")  \n"
      ],
      "execution_count": 52,
      "outputs": [
        {
          "output_type": "stream",
          "text": [
            "2.5\n",
            "No es posible dividir por cero\n",
            "\n",
            "Adios, regresa pronto...\n"
          ],
          "name": "stdout"
        }
      ]
    },
    {
      "cell_type": "markdown",
      "metadata": {
        "id": "BWzefs_VsTPT"
      },
      "source": [
        "# Espreciones Regulares, JSON, fecha y hora"
      ]
    },
    {
      "cell_type": "code",
      "metadata": {
        "id": "tXMNVwe8pdwS"
      },
      "source": [
        "\"\"\"Es una secuencia de caracteres, que forman una busqueda por patron\n",
        "  Sirve para verificar que una cadena de texto tiene el patron buscado.\"\"\"\n",
        "\n",
        "#Expreciones regulares (search, findall, split, sub)\n",
        "texto = \"Hola mi nombre es Donald\"\n",
        "\n",
        "# Con el siguiente codigo podemos importar las herramientas para las Expreciones Regulares --re\n",
        "import re\n",
        "# y de esta manera podemos hace uso de ella y ver si el objeto existe\n",
        "re.search(\"nombre\", texto)\n",
        "# o sino existe, no arrojara nada\n",
        "re.search(\"adios\", texto)"
      ],
      "execution_count": 63,
      "outputs": []
    },
    {
      "cell_type": "code",
      "metadata": {
        "colab": {
          "base_uri": "https://localhost:8080/"
        },
        "id": "BPyx7c6Qt-cA",
        "outputId": "dbb15a79-00f7-4c4e-a3e1-1674a32ef0c1"
      },
      "source": [
        "resultado = re.search(\"nombre\", texto)\n",
        "if (resultado):\n",
        "  print(\"Cadena encontrada\")\n",
        "else:\n",
        "  print(\"Cadena no encontrada\")  "
      ],
      "execution_count": 64,
      "outputs": [
        {
          "output_type": "stream",
          "text": [
            "Cadena encontrada\n"
          ],
          "name": "stdout"
        }
      ]
    },
    {
      "cell_type": "code",
      "metadata": {
        "colab": {
          "base_uri": "https://localhost:8080/"
        },
        "id": "mN-8PamTukcm",
        "outputId": "dcabe959-38e1-4a60-8ab4-7c6cd7c93d46"
      },
      "source": [
        "# para buscar algun elemento que termine por alguna palabra calve \n",
        "# podemos hacer lo siguiente\n",
        "resultado = re.search(\"nald$\", texto)\n",
        "print(resultado)"
      ],
      "execution_count": 65,
      "outputs": [
        {
          "output_type": "stream",
          "text": [
            "<re.Match object; span=(20, 24), match='nald'>\n"
          ],
          "name": "stdout"
        }
      ]
    },
    {
      "cell_type": "code",
      "metadata": {
        "colab": {
          "base_uri": "https://localhost:8080/"
        },
        "id": "shtuHluLvHhD",
        "outputId": "259a69bd-201d-4329-a208-9f410aa7600b"
      },
      "source": [
        "# para buscar algun elemento que comience por alguna palabra calve \n",
        "# podemos hacer lo siguiente\n",
        "resultado = re.search(\"^Hola\", texto)\n",
        "print(resultado)"
      ],
      "execution_count": 68,
      "outputs": [
        {
          "output_type": "stream",
          "text": [
            "<re.Match object; span=(0, 4), match='Hola'>\n"
          ],
          "name": "stdout"
        }
      ]
    },
    {
      "cell_type": "markdown",
      "metadata": {
        "id": "OQRjtWEjy5ND"
      },
      "source": [
        "# El findall busca todas las ocurrencias en una cadena\n"
      ]
    },
    {
      "cell_type": "code",
      "metadata": {
        "colab": {
          "base_uri": "https://localhost:8080/"
        },
        "id": "KbgcgbI0vdTb",
        "outputId": "c9fd56a0-d55a-4254-b292-2e22de34c61b"
      },
      "source": [
        "texto = \"\"\"\n",
        "El coche de Jhonda es blanco.\n",
        "El coche de mi abuela es negro.\n",
        "La casa de mi abuela es naranja.\n",
        "Mi novia es muy bonita. \n",
        "\"\"\"\n",
        "re.findall(\"coche.*.\" ,texto)"
      ],
      "execution_count": 72,
      "outputs": [
        {
          "output_type": "execute_result",
          "data": {
            "text/plain": [
              "['coche de Jhonda es blanco.', 'coche de mi abuela es negro.']"
            ]
          },
          "metadata": {},
          "execution_count": 72
        }
      ]
    },
    {
      "cell_type": "markdown",
      "metadata": {
        "id": "2ovZxwzLy204"
      },
      "source": [
        "# El (split) divide una cadena apartir de un patron\n"
      ]
    },
    {
      "cell_type": "code",
      "metadata": {
        "colab": {
          "base_uri": "https://localhost:8080/"
        },
        "id": "TpGpGbp-w2EK",
        "outputId": "6afb8603-4fc4-460e-ae78-80507a7a1db9"
      },
      "source": [
        "texto = \"La silla es de madera y un objeto de la lujuria\"\n",
        "print(re.split(\"\\s\", texto))"
      ],
      "execution_count": 74,
      "outputs": [
        {
          "output_type": "stream",
          "text": [
            "['La', 'silla', 'es', 'de', 'madera', 'y', 'un', 'objeto', 'de', 'la', 'lujuria']\n"
          ],
          "name": "stdout"
        }
      ]
    },
    {
      "cell_type": "markdown",
      "metadata": {
        "id": "2xMuidcoy0Cg"
      },
      "source": [
        "# sub sustituye todas las coincidencias de una cadena \n"
      ]
    },
    {
      "cell_type": "code",
      "metadata": {
        "colab": {
          "base_uri": "https://localhost:8080/"
        },
        "id": "kZS1hXNLx9SS",
        "outputId": "1b2d8820-cb25-4d69-dce7-e30a488731f1"
      },
      "source": [
        "texto = \"La silla es de madera y un objeto de la lujuria\"\n",
        "print(re.sub(\"de la lujuria\",\"del placer\", texto))"
      ],
      "execution_count": 75,
      "outputs": [
        {
          "output_type": "stream",
          "text": [
            "La silla es de madera y un objeto del placer\n"
          ],
          "name": "stdout"
        }
      ]
    },
    {
      "cell_type": "markdown",
      "metadata": {
        "id": "DOqVuLghywfC"
      },
      "source": [
        "# JSON"
      ]
    },
    {
      "cell_type": "code",
      "metadata": {
        "colab": {
          "base_uri": "https://localhost:8080/"
        },
        "id": "WJNfvReFylVt",
        "outputId": "9a89ed9e-a138-499d-87dc-3b71966137c5"
      },
      "source": [
        "# Es una forma de almacenar e intervcambiar datos que están en formato texto.\n",
        "\n",
        "# 1- Convertir datos de un diccionbario Python a una estructura JSON\n",
        "producto1 = {\"nombre\":\"Silla\", \"color\":\"blanca\", \"precio\":5000}\n",
        "\n",
        "# para convertirlo a JSON se inporta la siguiente libreria\n",
        "import json\n",
        "# y para usarlo debemos llamarlod ela siguiente manera\n",
        "json.dumps(producto1)\n",
        "# siempre es una buena practica almacenar el resultado en una variable\n",
        "result_json = json.dumps(producto1)\n",
        "print(result_json)"
      ],
      "execution_count": 76,
      "outputs": [
        {
          "output_type": "stream",
          "text": [
            "{\"nombre\": \"Silla\", \"color\": \"blanca\", \"precio\": 5000}\n"
          ],
          "name": "stdout"
        }
      ]
    },
    {
      "cell_type": "code",
      "metadata": {
        "colab": {
          "base_uri": "https://localhost:8080/",
          "height": 35
        },
        "id": "N7FyERcP1P2_",
        "outputId": "a9d5bbb1-9563-47dd-c93e-61f83df70f93"
      },
      "source": [
        " # cuando esta seteado con estructura de diccionario\n",
        " # se puede acceder a sus valores de la siguiente manera\n",
        " producto1[\"nombre\"]"
      ],
      "execution_count": 77,
      "outputs": [
        {
          "output_type": "execute_result",
          "data": {
            "application/vnd.google.colaboratory.intrinsic+json": {
              "type": "string"
            },
            "text/plain": [
              "'Silla'"
            ]
          },
          "metadata": {},
          "execution_count": 77
        }
      ]
    },
    {
      "cell_type": "code",
      "metadata": {
        "id": "z1OM3-ea1fnF"
      },
      "source": [
        "# Pero cuando lo tenemos en formato json, no podemos acceder de la misma forma\n",
        "# demostración\n",
        "result_json[\"nombre\"]"
      ],
      "execution_count": null,
      "outputs": []
    },
    {
      "cell_type": "code",
      "metadata": {
        "colab": {
          "base_uri": "https://localhost:8080/"
        },
        "id": "E5IQPsKg19ok",
        "outputId": "2a272f9f-f3c0-48cb-9ccb-9c012c6ff87a"
      },
      "source": [
        "# Ahora para convertir una estructura JSON a diccionario de python\n",
        "producto2 = json.loads(result_json)\n",
        "print(producto2)"
      ],
      "execution_count": 79,
      "outputs": [
        {
          "output_type": "stream",
          "text": [
            "{'nombre': 'Silla', 'color': 'blanca', 'precio': 5000}\n"
          ],
          "name": "stdout"
        }
      ]
    },
    {
      "cell_type": "code",
      "metadata": {
        "colab": {
          "base_uri": "https://localhost:8080/"
        },
        "id": "cNVVgWmP2eSB",
        "outputId": "fc5459d6-69f8-4d9d-80d8-7c8e3ea5c634"
      },
      "source": [
        "producto2[\"precio\"]"
      ],
      "execution_count": 80,
      "outputs": [
        {
          "output_type": "execute_result",
          "data": {
            "text/plain": [
              "5000"
            ]
          },
          "metadata": {},
          "execution_count": 80
        }
      ]
    },
    {
      "cell_type": "markdown",
      "metadata": {
        "id": "9dHDu2Qa3s-f"
      },
      "source": [
        "# Fecha y hora en python"
      ]
    },
    {
      "cell_type": "code",
      "metadata": {
        "colab": {
          "base_uri": "https://localhost:8080/"
        },
        "id": "K5Nn3NFO4NR-",
        "outputId": "aa76d025-7da6-43ed-9695-5e9d862beca5"
      },
      "source": [
        "# es necesario importar la libreria que contiene los metodos necesarios para \n",
        "# recoger la fecha y la hora\n",
        "from datetime import datetime as dt\n",
        "\n",
        "fechaHora = dt.now()\n",
        "\n",
        "print(fechaHora)"
      ],
      "execution_count": 85,
      "outputs": [
        {
          "output_type": "stream",
          "text": [
            "2021-08-25 05:58:13.654349\n"
          ],
          "name": "stdout"
        }
      ]
    },
    {
      "cell_type": "code",
      "metadata": {
        "colab": {
          "base_uri": "https://localhost:8080/"
        },
        "id": "xJ7MX9rs4zaB",
        "outputId": "70b88bcb-966e-4e21-898c-29454acacc7d"
      },
      "source": [
        "año = fechaHora.year\n",
        "mes = fechaHora.month\n",
        "dia = fechaHora.day\n",
        "# hora\n",
        "hh = fechaHora.hour\n",
        "mm = fechaHora.minute\n",
        "ss = fechaHora.second\n",
        "ms = fechaHora.microsecond\n",
        "print(f\"Son las {hh}:{mm}:{ss} del dia {dia}/{mes}/{año}\")\n"
      ],
      "execution_count": 93,
      "outputs": [
        {
          "output_type": "stream",
          "text": [
            "Son las 5:58:13 del dia 25/8/2021\n"
          ],
          "name": "stdout"
        }
      ]
    },
    {
      "cell_type": "code",
      "metadata": {
        "colab": {
          "base_uri": "https://localhost:8080/"
        },
        "id": "yaSIt6xA5XSf",
        "outputId": "093b4d29-344e-4902-e3b7-4bfd4dd18890"
      },
      "source": [
        "# Ejercicio de repaso,\n",
        "# crear una funcion que permita encontrar una palabra de un texto \n",
        "# 1- importar la libreria\n",
        "import re\n",
        "# crear la funcion para buscar\n",
        "def search(word, text):\n",
        "  # usar el metodo re.search() para buscar la palabra que sera asignada mas tarde como parametro\n",
        "  # almacenar lo que capturemos del metodo re.search() en result\n",
        "  result = re.search(word, text)\n",
        "  # Retornar resultado\n",
        "  return result\n",
        "\n",
        "# esta es la cadena \n",
        "string = \"Esto es una frase de pruebas para hacer busquedas\"\n",
        "# Aquí la palabra a buscar\n",
        "wordToFind = \"frase\"\n",
        "\n",
        "# llamado a la función con la injección de los parametros \n",
        "resultado = search(wordToFind, string)\n",
        "\n",
        "# Condicionales\n",
        "if (resultado):\n",
        "  print(f\"Palabra ({wordToFind}) encontra\")\n",
        "  # para saber donde esta la palabra\n",
        "  start = resultado.start()\n",
        "  end = resultado.end()\n",
        "  print(f\"inicia en la posición {start} y termina en la posición {end}\")\n",
        "else:\n",
        "  print(f\"Palabra ({wordToFind}) no encontrada\")  "
      ],
      "execution_count": 107,
      "outputs": [
        {
          "output_type": "stream",
          "text": [
            "Palabra (frase) encontra\n",
            "inicia en la posición 12 y termina en la posición 17\n"
          ],
          "name": "stdout"
        }
      ]
    },
    {
      "cell_type": "code",
      "metadata": {
        "id": "Q9UhFwxT6f5m"
      },
      "source": [
        ""
      ],
      "execution_count": null,
      "outputs": []
    }
  ]
}